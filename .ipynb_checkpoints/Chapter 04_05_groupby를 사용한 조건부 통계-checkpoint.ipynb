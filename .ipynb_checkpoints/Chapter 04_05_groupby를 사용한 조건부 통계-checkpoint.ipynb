{
 "cells": [
  {
   "cell_type": "markdown",
   "metadata": {},
   "source": [
    "# groupby를 활용한 조건부 통계"
   ]
  },
  {
   "cell_type": "markdown",
   "metadata": {},
   "source": [
    "## groupby는 조건부 통계량을 계산하기 위한 방법\n",
    "## 분할, 적용, 결합의 3단계로 구성됨"
   ]
  },
  {
   "cell_type": "markdown",
   "metadata": {},
   "source": [
    "<li>사용 방법: df.groupby(분할 기준 컬럼)[적용 기준 칼럼].집계함수</li>\n",
    "<li>주요입력: by:분할 기준 컬럼(목록)</li>\n",
    "<li>as_index: 분할 기준 컬럼들을 인덱스로 사용할 것인지 여부 (default: True)</li>\n",
    "<li>여러 개의 집계 함수나 사용자 정의 함수를 쓰고 싶다면 agg 함수를 사용해야 함</li>"
   ]
  },
  {
   "cell_type": "markdown",
   "metadata": {},
   "source": [
    "## pivot_table과 groupby의 차이점"
   ]
  },
  {
   "cell_type": "markdown",
   "metadata": {},
   "source": [
    "<li> 결과값은 pivot_table과 groupby는 동일함</li>\n",
    "<li> 그러나 출력 값의 형태에 차이가 있으므로 상황에 맞게 구별해 사용 </li>\n",
    "<li> pivot_table은 출력 결과 자체가 결과물인 경우, groupby는 중간 산출물로써 사용</li>\n",
    "<li> pivot_table은 heatmap과 같은 시각화에 더 유리한 데이터 구조</li>"
   ]
  },
  {
   "cell_type": "code",
   "execution_count": 2,
   "metadata": {
    "ExecuteTime": {
     "end_time": "2021-04-08T01:28:34.224321Z",
     "start_time": "2021-04-08T01:28:34.214346Z"
    }
   },
   "outputs": [],
   "source": [
    "import os\n",
    "import pandas as pd\n",
    "os.chdir(r\"D:\\bigdata\\jupyter\\data_preprocessing\\1. 데이터 핸들링\\데이터\")"
   ]
  },
  {
   "cell_type": "code",
   "execution_count": 3,
   "metadata": {
    "ExecuteTime": {
     "end_time": "2021-04-08T01:29:17.110359Z",
     "start_time": "2021-04-08T01:29:17.054986Z"
    }
   },
   "outputs": [
    {
     "data": {
      "text/html": [
       "<div>\n",
       "<style scoped>\n",
       "    .dataframe tbody tr th:only-of-type {\n",
       "        vertical-align: middle;\n",
       "    }\n",
       "\n",
       "    .dataframe tbody tr th {\n",
       "        vertical-align: top;\n",
       "    }\n",
       "\n",
       "    .dataframe thead th {\n",
       "        text-align: right;\n",
       "    }\n",
       "</style>\n",
       "<table border=\"1\" class=\"dataframe\">\n",
       "  <thead>\n",
       "    <tr style=\"text-align: right;\">\n",
       "      <th></th>\n",
       "      <th>쇼핑몰</th>\n",
       "      <th>제품</th>\n",
       "      <th>수량</th>\n",
       "      <th>판매금액</th>\n",
       "      <th>쇼핑몰 유형</th>\n",
       "    </tr>\n",
       "  </thead>\n",
       "  <tbody>\n",
       "    <tr>\n",
       "      <th>0</th>\n",
       "      <td>쿠팡</td>\n",
       "      <td>제품_16</td>\n",
       "      <td>8</td>\n",
       "      <td>1134400</td>\n",
       "      <td>쿠팡</td>\n",
       "    </tr>\n",
       "    <tr>\n",
       "      <th>1</th>\n",
       "      <td>쿠팡</td>\n",
       "      <td>제품_57</td>\n",
       "      <td>8</td>\n",
       "      <td>439200</td>\n",
       "      <td>쿠팡</td>\n",
       "    </tr>\n",
       "    <tr>\n",
       "      <th>2</th>\n",
       "      <td>쿠팡</td>\n",
       "      <td>제품_25</td>\n",
       "      <td>4</td>\n",
       "      <td>495200</td>\n",
       "      <td>쿠팡</td>\n",
       "    </tr>\n",
       "    <tr>\n",
       "      <th>3</th>\n",
       "      <td>쿠팡</td>\n",
       "      <td>제품_18</td>\n",
       "      <td>4</td>\n",
       "      <td>578000</td>\n",
       "      <td>쿠팡</td>\n",
       "    </tr>\n",
       "    <tr>\n",
       "      <th>4</th>\n",
       "      <td>쿠팡</td>\n",
       "      <td>제품_90</td>\n",
       "      <td>2</td>\n",
       "      <td>75000</td>\n",
       "      <td>쿠팡</td>\n",
       "    </tr>\n",
       "  </tbody>\n",
       "</table>\n",
       "</div>"
      ],
      "text/plain": [
       "  쇼핑몰     제품  수량     판매금액 쇼핑몰 유형\n",
       "0  쿠팡  제품_16   8  1134400     쿠팡\n",
       "1  쿠팡  제품_57   8   439200     쿠팡\n",
       "2  쿠팡  제품_25   4   495200     쿠팡\n",
       "3  쿠팡  제품_18   4   578000     쿠팡\n",
       "4  쿠팡  제품_90   2    75000     쿠팡"
      ]
     },
     "execution_count": 3,
     "metadata": {},
     "output_type": "execute_result"
    }
   ],
   "source": [
    "df = pd.read_csv(\"온라인_판매기록.csv\", encoding=\"ANSI\", engine='python')\n",
    "df.head()"
   ]
  },
  {
   "cell_type": "markdown",
   "metadata": {},
   "source": [
    "# 쇼핑몰 유형에 따른 수량의 평균"
   ]
  },
  {
   "cell_type": "code",
   "execution_count": 7,
   "metadata": {
    "ExecuteTime": {
     "end_time": "2021-04-08T01:35:13.292113Z",
     "start_time": "2021-04-08T01:35:13.273172Z"
    }
   },
   "outputs": [
    {
     "data": {
      "text/plain": [
       "쇼핑몰 유형\n",
       "동물병원      5.512889\n",
       "온라인II     5.807143\n",
       "온라인사이트    5.477670\n",
       "유통대리점     5.493333\n",
       "전시회       5.556701\n",
       "쿠팡        5.396389\n",
       "할인점       5.288525\n",
       "할인점II     5.469565\n",
       "Name: 수량, dtype: float64"
      ]
     },
     "execution_count": 7,
     "metadata": {},
     "output_type": "execute_result"
    }
   ],
   "source": [
    "# as_index를 False로 지정하지 않으면 '쇼핑몰 유형'은 인덱스로, 평균값은 시리즈 형태의 값으로 출력됨\n",
    "df.groupby(['쇼핑몰 유형'])['수량'].mean()"
   ]
  },
  {
   "cell_type": "markdown",
   "metadata": {},
   "source": [
    "# 쇼핑몰 유형에 따른 수량의 평균 as_index=False"
   ]
  },
  {
   "cell_type": "code",
   "execution_count": 6,
   "metadata": {
    "ExecuteTime": {
     "end_time": "2021-04-08T01:33:58.743994Z",
     "start_time": "2021-04-08T01:33:58.719025Z"
    }
   },
   "outputs": [
    {
     "data": {
      "text/html": [
       "<div>\n",
       "<style scoped>\n",
       "    .dataframe tbody tr th:only-of-type {\n",
       "        vertical-align: middle;\n",
       "    }\n",
       "\n",
       "    .dataframe tbody tr th {\n",
       "        vertical-align: top;\n",
       "    }\n",
       "\n",
       "    .dataframe thead th {\n",
       "        text-align: right;\n",
       "    }\n",
       "</style>\n",
       "<table border=\"1\" class=\"dataframe\">\n",
       "  <thead>\n",
       "    <tr style=\"text-align: right;\">\n",
       "      <th></th>\n",
       "      <th>쇼핑몰 유형</th>\n",
       "      <th>수량</th>\n",
       "    </tr>\n",
       "  </thead>\n",
       "  <tbody>\n",
       "    <tr>\n",
       "      <th>0</th>\n",
       "      <td>동물병원</td>\n",
       "      <td>5.512889</td>\n",
       "    </tr>\n",
       "    <tr>\n",
       "      <th>1</th>\n",
       "      <td>온라인II</td>\n",
       "      <td>5.807143</td>\n",
       "    </tr>\n",
       "    <tr>\n",
       "      <th>2</th>\n",
       "      <td>온라인사이트</td>\n",
       "      <td>5.477670</td>\n",
       "    </tr>\n",
       "    <tr>\n",
       "      <th>3</th>\n",
       "      <td>유통대리점</td>\n",
       "      <td>5.493333</td>\n",
       "    </tr>\n",
       "    <tr>\n",
       "      <th>4</th>\n",
       "      <td>전시회</td>\n",
       "      <td>5.556701</td>\n",
       "    </tr>\n",
       "    <tr>\n",
       "      <th>5</th>\n",
       "      <td>쿠팡</td>\n",
       "      <td>5.396389</td>\n",
       "    </tr>\n",
       "    <tr>\n",
       "      <th>6</th>\n",
       "      <td>할인점</td>\n",
       "      <td>5.288525</td>\n",
       "    </tr>\n",
       "    <tr>\n",
       "      <th>7</th>\n",
       "      <td>할인점II</td>\n",
       "      <td>5.469565</td>\n",
       "    </tr>\n",
       "  </tbody>\n",
       "</table>\n",
       "</div>"
      ],
      "text/plain": [
       "   쇼핑몰 유형        수량\n",
       "0    동물병원  5.512889\n",
       "1   온라인II  5.807143\n",
       "2  온라인사이트  5.477670\n",
       "3   유통대리점  5.493333\n",
       "4     전시회  5.556701\n",
       "5      쿠팡  5.396389\n",
       "6     할인점  5.288525\n",
       "7   할인점II  5.469565"
      ]
     },
     "execution_count": 6,
     "metadata": {},
     "output_type": "execute_result"
    }
   ],
   "source": [
    "# as_index=False로 하면 인덱스는 숫자로 들어감\n",
    "df.groupby(['쇼핑몰 유형'], as_index=False)['수량'].mean()"
   ]
  },
  {
   "cell_type": "markdown",
   "metadata": {},
   "source": [
    "# 쇼핑몰 유형에 따른 수량의 평균, 최대값"
   ]
  },
  {
   "cell_type": "code",
   "execution_count": 10,
   "metadata": {
    "ExecuteTime": {
     "end_time": "2021-04-08T02:13:43.902252Z",
     "start_time": "2021-04-08T02:13:43.877284Z"
    }
   },
   "outputs": [
    {
     "data": {
      "text/html": [
       "<div>\n",
       "<style scoped>\n",
       "    .dataframe tbody tr th:only-of-type {\n",
       "        vertical-align: middle;\n",
       "    }\n",
       "\n",
       "    .dataframe tbody tr th {\n",
       "        vertical-align: top;\n",
       "    }\n",
       "\n",
       "    .dataframe thead tr th {\n",
       "        text-align: left;\n",
       "    }\n",
       "\n",
       "    .dataframe thead tr:last-of-type th {\n",
       "        text-align: right;\n",
       "    }\n",
       "</style>\n",
       "<table border=\"1\" class=\"dataframe\">\n",
       "  <thead>\n",
       "    <tr>\n",
       "      <th></th>\n",
       "      <th colspan=\"2\" halign=\"left\">수량</th>\n",
       "      <th colspan=\"2\" halign=\"left\">판매금액</th>\n",
       "    </tr>\n",
       "    <tr>\n",
       "      <th></th>\n",
       "      <th>mean</th>\n",
       "      <th>max</th>\n",
       "      <th>mean</th>\n",
       "      <th>max</th>\n",
       "    </tr>\n",
       "    <tr>\n",
       "      <th>쇼핑몰 유형</th>\n",
       "      <th></th>\n",
       "      <th></th>\n",
       "      <th></th>\n",
       "      <th></th>\n",
       "    </tr>\n",
       "  </thead>\n",
       "  <tbody>\n",
       "    <tr>\n",
       "      <th>동물병원</th>\n",
       "      <td>5.512889</td>\n",
       "      <td>10</td>\n",
       "      <td>439390.844444</td>\n",
       "      <td>1515000</td>\n",
       "    </tr>\n",
       "    <tr>\n",
       "      <th>온라인II</th>\n",
       "      <td>5.807143</td>\n",
       "      <td>10</td>\n",
       "      <td>475726.428571</td>\n",
       "      <td>1530000</td>\n",
       "    </tr>\n",
       "    <tr>\n",
       "      <th>온라인사이트</th>\n",
       "      <td>5.477670</td>\n",
       "      <td>10</td>\n",
       "      <td>454746.019417</td>\n",
       "      <td>1533000</td>\n",
       "    </tr>\n",
       "    <tr>\n",
       "      <th>유통대리점</th>\n",
       "      <td>5.493333</td>\n",
       "      <td>10</td>\n",
       "      <td>462627.384615</td>\n",
       "      <td>1530000</td>\n",
       "    </tr>\n",
       "    <tr>\n",
       "      <th>전시회</th>\n",
       "      <td>5.556701</td>\n",
       "      <td>10</td>\n",
       "      <td>447135.051546</td>\n",
       "      <td>1486000</td>\n",
       "    </tr>\n",
       "    <tr>\n",
       "      <th>쿠팡</th>\n",
       "      <td>5.396389</td>\n",
       "      <td>10</td>\n",
       "      <td>433447.802198</td>\n",
       "      <td>1533000</td>\n",
       "    </tr>\n",
       "    <tr>\n",
       "      <th>할인점</th>\n",
       "      <td>5.288525</td>\n",
       "      <td>10</td>\n",
       "      <td>427162.295082</td>\n",
       "      <td>1533000</td>\n",
       "    </tr>\n",
       "    <tr>\n",
       "      <th>할인점II</th>\n",
       "      <td>5.469565</td>\n",
       "      <td>10</td>\n",
       "      <td>440754.782609</td>\n",
       "      <td>1515000</td>\n",
       "    </tr>\n",
       "  </tbody>\n",
       "</table>\n",
       "</div>"
      ],
      "text/plain": [
       "              수량               판매금액         \n",
       "            mean max           mean      max\n",
       "쇼핑몰 유형                                      \n",
       "동물병원    5.512889  10  439390.844444  1515000\n",
       "온라인II   5.807143  10  475726.428571  1530000\n",
       "온라인사이트  5.477670  10  454746.019417  1533000\n",
       "유통대리점   5.493333  10  462627.384615  1530000\n",
       "전시회     5.556701  10  447135.051546  1486000\n",
       "쿠팡      5.396389  10  433447.802198  1533000\n",
       "할인점     5.288525  10  427162.295082  1533000\n",
       "할인점II   5.469565  10  440754.782609  1515000"
      ]
     },
     "execution_count": 10,
     "metadata": {},
     "output_type": "execute_result"
    }
   ],
   "source": [
    "# mean과 max 두 개의 연산 함수를 사용하므로 agg를 써야 함\n",
    "df.groupby(['쇼핑몰 유형'])[['수량','판매금액']].agg(['mean','max'])"
   ]
  },
  {
   "cell_type": "markdown",
   "metadata": {},
   "source": [
    "### 쇼핑몰 유형과 제품에 따른 수량, 판매금액의 최대값-최소값을 구하는 사용자 함수적용"
   ]
  },
  {
   "cell_type": "code",
   "execution_count": 12,
   "metadata": {
    "ExecuteTime": {
     "end_time": "2021-04-08T02:16:53.668798Z",
     "start_time": "2021-04-08T02:16:53.608957Z"
    }
   },
   "outputs": [
    {
     "data": {
      "text/html": [
       "<div>\n",
       "<style scoped>\n",
       "    .dataframe tbody tr th:only-of-type {\n",
       "        vertical-align: middle;\n",
       "    }\n",
       "\n",
       "    .dataframe tbody tr th {\n",
       "        vertical-align: top;\n",
       "    }\n",
       "\n",
       "    .dataframe thead th {\n",
       "        text-align: right;\n",
       "    }\n",
       "</style>\n",
       "<table border=\"1\" class=\"dataframe\">\n",
       "  <thead>\n",
       "    <tr style=\"text-align: right;\">\n",
       "      <th></th>\n",
       "      <th></th>\n",
       "      <th>수량</th>\n",
       "      <th>판매금액</th>\n",
       "    </tr>\n",
       "    <tr>\n",
       "      <th>쇼핑몰 유형</th>\n",
       "      <th>제품</th>\n",
       "      <th></th>\n",
       "      <th></th>\n",
       "    </tr>\n",
       "  </thead>\n",
       "  <tbody>\n",
       "    <tr>\n",
       "      <th rowspan=\"5\" valign=\"top\">동물병원</th>\n",
       "      <th>제품_01</th>\n",
       "      <td>7</td>\n",
       "      <td>512400</td>\n",
       "    </tr>\n",
       "    <tr>\n",
       "      <th>제품_02</th>\n",
       "      <td>8</td>\n",
       "      <td>129600</td>\n",
       "    </tr>\n",
       "    <tr>\n",
       "      <th>제품_03</th>\n",
       "      <td>9</td>\n",
       "      <td>351900</td>\n",
       "    </tr>\n",
       "    <tr>\n",
       "      <th>제품_04</th>\n",
       "      <td>8</td>\n",
       "      <td>341600</td>\n",
       "    </tr>\n",
       "    <tr>\n",
       "      <th>제품_05</th>\n",
       "      <td>8</td>\n",
       "      <td>860800</td>\n",
       "    </tr>\n",
       "    <tr>\n",
       "      <th>...</th>\n",
       "      <th>...</th>\n",
       "      <td>...</td>\n",
       "      <td>...</td>\n",
       "    </tr>\n",
       "    <tr>\n",
       "      <th rowspan=\"5\" valign=\"top\">할인점II</th>\n",
       "      <th>제품_93</th>\n",
       "      <td>0</td>\n",
       "      <td>0</td>\n",
       "    </tr>\n",
       "    <tr>\n",
       "      <th>제품_95</th>\n",
       "      <td>2</td>\n",
       "      <td>194600</td>\n",
       "    </tr>\n",
       "    <tr>\n",
       "      <th>제품_97</th>\n",
       "      <td>0</td>\n",
       "      <td>0</td>\n",
       "    </tr>\n",
       "    <tr>\n",
       "      <th>제품_98</th>\n",
       "      <td>0</td>\n",
       "      <td>0</td>\n",
       "    </tr>\n",
       "    <tr>\n",
       "      <th>제품_99</th>\n",
       "      <td>0</td>\n",
       "      <td>0</td>\n",
       "    </tr>\n",
       "  </tbody>\n",
       "</table>\n",
       "<p>762 rows × 2 columns</p>\n",
       "</div>"
      ],
      "text/plain": [
       "              수량    판매금액\n",
       "쇼핑몰 유형 제품               \n",
       "동물병원   제품_01   7  512400\n",
       "       제품_02   8  129600\n",
       "       제품_03   9  351900\n",
       "       제품_04   8  341600\n",
       "       제품_05   8  860800\n",
       "...           ..     ...\n",
       "할인점II  제품_93   0       0\n",
       "       제품_95   2  194600\n",
       "       제품_97   0       0\n",
       "       제품_98   0       0\n",
       "       제품_99   0       0\n",
       "\n",
       "[762 rows x 2 columns]"
      ]
     },
     "execution_count": 12,
     "metadata": {},
     "output_type": "execute_result"
    }
   ],
   "source": [
    "def my_func(value):\n",
    "    return max(value) - min(value)\n",
    "df.groupby(['쇼핑몰 유형', '제품'])[['수량','판매금액']].agg(my_func)"
   ]
  },
  {
   "cell_type": "code",
   "execution_count": 13,
   "metadata": {
    "ExecuteTime": {
     "end_time": "2021-04-08T02:17:53.420271Z",
     "start_time": "2021-04-08T02:17:53.369863Z"
    }
   },
   "outputs": [
    {
     "data": {
      "text/html": [
       "<div>\n",
       "<style scoped>\n",
       "    .dataframe tbody tr th:only-of-type {\n",
       "        vertical-align: middle;\n",
       "    }\n",
       "\n",
       "    .dataframe tbody tr th {\n",
       "        vertical-align: top;\n",
       "    }\n",
       "\n",
       "    .dataframe thead th {\n",
       "        text-align: right;\n",
       "    }\n",
       "</style>\n",
       "<table border=\"1\" class=\"dataframe\">\n",
       "  <thead>\n",
       "    <tr style=\"text-align: right;\">\n",
       "      <th></th>\n",
       "      <th>쇼핑몰 유형</th>\n",
       "      <th>제품</th>\n",
       "      <th>수량</th>\n",
       "      <th>판매금액</th>\n",
       "    </tr>\n",
       "  </thead>\n",
       "  <tbody>\n",
       "    <tr>\n",
       "      <th>0</th>\n",
       "      <td>동물병원</td>\n",
       "      <td>제품_01</td>\n",
       "      <td>7</td>\n",
       "      <td>512400</td>\n",
       "    </tr>\n",
       "    <tr>\n",
       "      <th>1</th>\n",
       "      <td>동물병원</td>\n",
       "      <td>제품_02</td>\n",
       "      <td>8</td>\n",
       "      <td>129600</td>\n",
       "    </tr>\n",
       "    <tr>\n",
       "      <th>2</th>\n",
       "      <td>동물병원</td>\n",
       "      <td>제품_03</td>\n",
       "      <td>9</td>\n",
       "      <td>351900</td>\n",
       "    </tr>\n",
       "    <tr>\n",
       "      <th>3</th>\n",
       "      <td>동물병원</td>\n",
       "      <td>제품_04</td>\n",
       "      <td>8</td>\n",
       "      <td>341600</td>\n",
       "    </tr>\n",
       "    <tr>\n",
       "      <th>4</th>\n",
       "      <td>동물병원</td>\n",
       "      <td>제품_05</td>\n",
       "      <td>8</td>\n",
       "      <td>860800</td>\n",
       "    </tr>\n",
       "    <tr>\n",
       "      <th>...</th>\n",
       "      <td>...</td>\n",
       "      <td>...</td>\n",
       "      <td>...</td>\n",
       "      <td>...</td>\n",
       "    </tr>\n",
       "    <tr>\n",
       "      <th>757</th>\n",
       "      <td>할인점II</td>\n",
       "      <td>제품_93</td>\n",
       "      <td>0</td>\n",
       "      <td>0</td>\n",
       "    </tr>\n",
       "    <tr>\n",
       "      <th>758</th>\n",
       "      <td>할인점II</td>\n",
       "      <td>제품_95</td>\n",
       "      <td>2</td>\n",
       "      <td>194600</td>\n",
       "    </tr>\n",
       "    <tr>\n",
       "      <th>759</th>\n",
       "      <td>할인점II</td>\n",
       "      <td>제품_97</td>\n",
       "      <td>0</td>\n",
       "      <td>0</td>\n",
       "    </tr>\n",
       "    <tr>\n",
       "      <th>760</th>\n",
       "      <td>할인점II</td>\n",
       "      <td>제품_98</td>\n",
       "      <td>0</td>\n",
       "      <td>0</td>\n",
       "    </tr>\n",
       "    <tr>\n",
       "      <th>761</th>\n",
       "      <td>할인점II</td>\n",
       "      <td>제품_99</td>\n",
       "      <td>0</td>\n",
       "      <td>0</td>\n",
       "    </tr>\n",
       "  </tbody>\n",
       "</table>\n",
       "<p>762 rows × 4 columns</p>\n",
       "</div>"
      ],
      "text/plain": [
       "    쇼핑몰 유형     제품  수량    판매금액\n",
       "0     동물병원  제품_01   7  512400\n",
       "1     동물병원  제품_02   8  129600\n",
       "2     동물병원  제품_03   9  351900\n",
       "3     동물병원  제품_04   8  341600\n",
       "4     동물병원  제품_05   8  860800\n",
       "..     ...    ...  ..     ...\n",
       "757  할인점II  제품_93   0       0\n",
       "758  할인점II  제품_95   2  194600\n",
       "759  할인점II  제품_97   0       0\n",
       "760  할인점II  제품_98   0       0\n",
       "761  할인점II  제품_99   0       0\n",
       "\n",
       "[762 rows x 4 columns]"
      ]
     },
     "execution_count": 13,
     "metadata": {},
     "output_type": "execute_result"
    }
   ],
   "source": [
    "# as_index=False로 해서 인덱스를 숫자로 만드는 경우\n",
    "def my_func(value):\n",
    "    return max(value) - min(value)\n",
    "df.groupby(['쇼핑몰 유형', '제품'], as_index=False)[['수량','판매금액']].agg(my_func)"
   ]
  }
 ],
 "metadata": {
  "kernelspec": {
   "display_name": "Python [conda env:mdai] *",
   "language": "python",
   "name": "conda-env-mdai-py"
  },
  "language_info": {
   "codemirror_mode": {
    "name": "ipython",
    "version": 3
   },
   "file_extension": ".py",
   "mimetype": "text/x-python",
   "name": "python",
   "nbconvert_exporter": "python",
   "pygments_lexer": "ipython3",
   "version": "3.8.5"
  }
 },
 "nbformat": 4,
 "nbformat_minor": 4
}
