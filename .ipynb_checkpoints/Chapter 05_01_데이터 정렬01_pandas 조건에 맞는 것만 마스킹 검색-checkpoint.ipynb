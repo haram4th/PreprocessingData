{
 "cells": [
  {
   "cell_type": "markdown",
   "metadata": {},
   "source": [
    "# pandas 마스킹 검색 df.loc[비교할 행 == True/False 조건 값]"
   ]
  },
  {
   "cell_type": "markdown",
   "metadata": {},
   "source": [
    "<li> pandas의 DataFrame과 Series는 모두 ndarray 이므로 비교연산 및 브로드캐스팅이 적용될 수 있음</li>\n",
    "<li> df.loc[ 조건 비교할 컬럼과 조건 ] 으로 True, False를 체크하여 인덱싱 가능"
   ]
  },
  {
   "cell_type": "code",
   "execution_count": 1,
   "metadata": {
    "ExecuteTime": {
     "end_time": "2021-04-14T01:04:45.983532Z",
     "start_time": "2021-04-14T01:04:34.569467Z"
    }
   },
   "outputs": [],
   "source": [
    "import os\n",
    "import pandas as pd\n",
    "os.chdir(r\"D:\\bigdata\\jupyter\\data_preprocessing\\1. 데이터 핸들링\\데이터\")"
   ]
  },
  {
   "cell_type": "code",
   "execution_count": 3,
   "metadata": {
    "ExecuteTime": {
     "end_time": "2021-04-14T01:05:45.317929Z",
     "start_time": "2021-04-14T01:05:44.958901Z"
    }
   },
   "outputs": [
    {
     "data": {
      "text/html": [
       "<div>\n",
       "<style scoped>\n",
       "    .dataframe tbody tr th:only-of-type {\n",
       "        vertical-align: middle;\n",
       "    }\n",
       "\n",
       "    .dataframe tbody tr th {\n",
       "        vertical-align: top;\n",
       "    }\n",
       "\n",
       "    .dataframe thead th {\n",
       "        text-align: right;\n",
       "    }\n",
       "</style>\n",
       "<table border=\"1\" class=\"dataframe\">\n",
       "  <thead>\n",
       "    <tr style=\"text-align: right;\">\n",
       "      <th></th>\n",
       "      <th>쇼핑몰</th>\n",
       "      <th>제품</th>\n",
       "      <th>수량</th>\n",
       "      <th>판매금액</th>\n",
       "      <th>쇼핑몰 유형</th>\n",
       "    </tr>\n",
       "  </thead>\n",
       "  <tbody>\n",
       "    <tr>\n",
       "      <th>0</th>\n",
       "      <td>쿠팡</td>\n",
       "      <td>제품_16</td>\n",
       "      <td>8</td>\n",
       "      <td>1134400</td>\n",
       "      <td>쿠팡</td>\n",
       "    </tr>\n",
       "    <tr>\n",
       "      <th>1</th>\n",
       "      <td>쿠팡</td>\n",
       "      <td>제품_57</td>\n",
       "      <td>8</td>\n",
       "      <td>439200</td>\n",
       "      <td>쿠팡</td>\n",
       "    </tr>\n",
       "    <tr>\n",
       "      <th>2</th>\n",
       "      <td>쿠팡</td>\n",
       "      <td>제품_25</td>\n",
       "      <td>4</td>\n",
       "      <td>495200</td>\n",
       "      <td>쿠팡</td>\n",
       "    </tr>\n",
       "    <tr>\n",
       "      <th>3</th>\n",
       "      <td>쿠팡</td>\n",
       "      <td>제품_18</td>\n",
       "      <td>4</td>\n",
       "      <td>578000</td>\n",
       "      <td>쿠팡</td>\n",
       "    </tr>\n",
       "    <tr>\n",
       "      <th>4</th>\n",
       "      <td>쿠팡</td>\n",
       "      <td>제품_90</td>\n",
       "      <td>2</td>\n",
       "      <td>75000</td>\n",
       "      <td>쿠팡</td>\n",
       "    </tr>\n",
       "    <tr>\n",
       "      <th>...</th>\n",
       "      <td>...</td>\n",
       "      <td>...</td>\n",
       "      <td>...</td>\n",
       "      <td>...</td>\n",
       "      <td>...</td>\n",
       "    </tr>\n",
       "    <tr>\n",
       "      <th>5810</th>\n",
       "      <td>애견아우랫</td>\n",
       "      <td>제품_41</td>\n",
       "      <td>5</td>\n",
       "      <td>696500</td>\n",
       "      <td>동물병원</td>\n",
       "    </tr>\n",
       "    <tr>\n",
       "      <th>5811</th>\n",
       "      <td>애견아우랫</td>\n",
       "      <td>제품_98</td>\n",
       "      <td>6</td>\n",
       "      <td>590400</td>\n",
       "      <td>동물병원</td>\n",
       "    </tr>\n",
       "    <tr>\n",
       "      <th>5812</th>\n",
       "      <td>애견아우랫</td>\n",
       "      <td>제품_77</td>\n",
       "      <td>5</td>\n",
       "      <td>512500</td>\n",
       "      <td>동물병원</td>\n",
       "    </tr>\n",
       "    <tr>\n",
       "      <th>5813</th>\n",
       "      <td>애견아우랫</td>\n",
       "      <td>제품_04</td>\n",
       "      <td>6</td>\n",
       "      <td>256200</td>\n",
       "      <td>동물병원</td>\n",
       "    </tr>\n",
       "    <tr>\n",
       "      <th>5814</th>\n",
       "      <td>애견아우랫</td>\n",
       "      <td>제품_39</td>\n",
       "      <td>7</td>\n",
       "      <td>72800</td>\n",
       "      <td>동물병원</td>\n",
       "    </tr>\n",
       "  </tbody>\n",
       "</table>\n",
       "<p>5815 rows × 5 columns</p>\n",
       "</div>"
      ],
      "text/plain": [
       "        쇼핑몰     제품  수량     판매금액 쇼핑몰 유형\n",
       "0        쿠팡  제품_16   8  1134400     쿠팡\n",
       "1        쿠팡  제품_57   8   439200     쿠팡\n",
       "2        쿠팡  제품_25   4   495200     쿠팡\n",
       "3        쿠팡  제품_18   4   578000     쿠팡\n",
       "4        쿠팡  제품_90   2    75000     쿠팡\n",
       "...     ...    ...  ..      ...    ...\n",
       "5810  애견아우랫  제품_41   5   696500   동물병원\n",
       "5811  애견아우랫  제품_98   6   590400   동물병원\n",
       "5812  애견아우랫  제품_77   5   512500   동물병원\n",
       "5813  애견아우랫  제품_04   6   256200   동물병원\n",
       "5814  애견아우랫  제품_39   7    72800   동물병원\n",
       "\n",
       "[5815 rows x 5 columns]"
      ]
     },
     "execution_count": 3,
     "metadata": {},
     "output_type": "execute_result"
    }
   ],
   "source": [
    "df = pd.read_csv('온라인_판매기록.csv', encoding='ANSI', engine='python')\n",
    "df"
   ]
  },
  {
   "cell_type": "markdown",
   "metadata": {},
   "source": [
    "# df.loc[ 조건 비교할 컬럼과 조건 ] 으로 조건을 비교하여 마스킹 인덱싱"
   ]
  },
  {
   "cell_type": "code",
   "execution_count": 5,
   "metadata": {
    "ExecuteTime": {
     "end_time": "2021-04-14T01:10:55.300974Z",
     "start_time": "2021-04-14T01:10:55.278006Z"
    }
   },
   "outputs": [
    {
     "data": {
      "text/html": [
       "<div>\n",
       "<style scoped>\n",
       "    .dataframe tbody tr th:only-of-type {\n",
       "        vertical-align: middle;\n",
       "    }\n",
       "\n",
       "    .dataframe tbody tr th {\n",
       "        vertical-align: top;\n",
       "    }\n",
       "\n",
       "    .dataframe thead th {\n",
       "        text-align: right;\n",
       "    }\n",
       "</style>\n",
       "<table border=\"1\" class=\"dataframe\">\n",
       "  <thead>\n",
       "    <tr style=\"text-align: right;\">\n",
       "      <th></th>\n",
       "      <th>쇼핑몰</th>\n",
       "      <th>제품</th>\n",
       "      <th>수량</th>\n",
       "      <th>판매금액</th>\n",
       "      <th>쇼핑몰 유형</th>\n",
       "    </tr>\n",
       "  </thead>\n",
       "  <tbody>\n",
       "    <tr>\n",
       "      <th>0</th>\n",
       "      <td>쿠팡</td>\n",
       "      <td>제품_16</td>\n",
       "      <td>8</td>\n",
       "      <td>1134400</td>\n",
       "      <td>쿠팡</td>\n",
       "    </tr>\n",
       "    <tr>\n",
       "      <th>35</th>\n",
       "      <td>쿠팡</td>\n",
       "      <td>제품_16</td>\n",
       "      <td>7</td>\n",
       "      <td>992600</td>\n",
       "      <td>쿠팡</td>\n",
       "    </tr>\n",
       "    <tr>\n",
       "      <th>479</th>\n",
       "      <td>스누피동물병원</td>\n",
       "      <td>제품_16</td>\n",
       "      <td>9</td>\n",
       "      <td>1276200</td>\n",
       "      <td>동물병원</td>\n",
       "    </tr>\n",
       "    <tr>\n",
       "      <th>705</th>\n",
       "      <td>딩동이네</td>\n",
       "      <td>제품_16</td>\n",
       "      <td>8</td>\n",
       "      <td>1134400</td>\n",
       "      <td>유통대리점</td>\n",
       "    </tr>\n",
       "    <tr>\n",
       "      <th>708</th>\n",
       "      <td>딩동이네</td>\n",
       "      <td>제품_16</td>\n",
       "      <td>5</td>\n",
       "      <td>709000</td>\n",
       "      <td>유통대리점</td>\n",
       "    </tr>\n",
       "  </tbody>\n",
       "</table>\n",
       "</div>"
      ],
      "text/plain": [
       "         쇼핑몰     제품  수량     판매금액 쇼핑몰 유형\n",
       "0         쿠팡  제품_16   8  1134400     쿠팡\n",
       "35        쿠팡  제품_16   7   992600     쿠팡\n",
       "479  스누피동물병원  제품_16   9  1276200   동물병원\n",
       "705     딩동이네  제품_16   8  1134400  유통대리점\n",
       "708     딩동이네  제품_16   5   709000  유통대리점"
      ]
     },
     "execution_count": 5,
     "metadata": {},
     "output_type": "execute_result"
    }
   ],
   "source": [
    "# df.loc[ 조건 비교할 컬럼과 조건 ] \n",
    "# df 데이터 프레임의 '제품' 컬럼에서 '제품_16'인 것만 가져오고 싶을 때\n",
    "# 비교할 컬럼 = df['제품']\n",
    "# 비교 조건 = '제품_16'\n",
    "\n",
    "df.loc[df['제품'] == '제품_16'].head()"
   ]
  },
  {
   "cell_type": "code",
   "execution_count": 6,
   "metadata": {
    "ExecuteTime": {
     "end_time": "2021-04-14T01:14:27.968817Z",
     "start_time": "2021-04-14T01:14:27.904007Z"
    }
   },
   "outputs": [
    {
     "data": {
      "text/plain": [
       "array(['쿠팡', '온라인II', '온라인사이트', '동물병원', '할인점II', '유통대리점', '전시회', '할인점'],\n",
       "      dtype=object)"
      ]
     },
     "execution_count": 6,
     "metadata": {},
     "output_type": "execute_result"
    }
   ],
   "source": [
    "df['쇼핑몰 유형'].unique()"
   ]
  },
  {
   "cell_type": "markdown",
   "metadata": {},
   "source": [
    "# 쇼핑몰 유형이 '온라인II', '온라인사이트'인 경우만 인덱싱"
   ]
  },
  {
   "cell_type": "code",
   "execution_count": 11,
   "metadata": {
    "ExecuteTime": {
     "end_time": "2021-04-14T01:21:18.573721Z",
     "start_time": "2021-04-14T01:21:18.557737Z"
    }
   },
   "outputs": [
    {
     "data": {
      "text/html": [
       "<div>\n",
       "<style scoped>\n",
       "    .dataframe tbody tr th:only-of-type {\n",
       "        vertical-align: middle;\n",
       "    }\n",
       "\n",
       "    .dataframe tbody tr th {\n",
       "        vertical-align: top;\n",
       "    }\n",
       "\n",
       "    .dataframe thead th {\n",
       "        text-align: right;\n",
       "    }\n",
       "</style>\n",
       "<table border=\"1\" class=\"dataframe\">\n",
       "  <thead>\n",
       "    <tr style=\"text-align: right;\">\n",
       "      <th></th>\n",
       "      <th>쇼핑몰</th>\n",
       "      <th>제품</th>\n",
       "      <th>수량</th>\n",
       "      <th>판매금액</th>\n",
       "      <th>쇼핑몰 유형</th>\n",
       "    </tr>\n",
       "  </thead>\n",
       "  <tbody>\n",
       "    <tr>\n",
       "      <th>95</th>\n",
       "      <td>위메프</td>\n",
       "      <td>제품_63</td>\n",
       "      <td>3</td>\n",
       "      <td>400800</td>\n",
       "      <td>온라인II</td>\n",
       "    </tr>\n",
       "    <tr>\n",
       "      <th>96</th>\n",
       "      <td>위메프</td>\n",
       "      <td>제품_85</td>\n",
       "      <td>7</td>\n",
       "      <td>586600</td>\n",
       "      <td>온라인II</td>\n",
       "    </tr>\n",
       "    <tr>\n",
       "      <th>97</th>\n",
       "      <td>위메프</td>\n",
       "      <td>제품_95</td>\n",
       "      <td>3</td>\n",
       "      <td>291900</td>\n",
       "      <td>온라인II</td>\n",
       "    </tr>\n",
       "    <tr>\n",
       "      <th>98</th>\n",
       "      <td>위메프</td>\n",
       "      <td>제품_87</td>\n",
       "      <td>5</td>\n",
       "      <td>654000</td>\n",
       "      <td>온라인II</td>\n",
       "    </tr>\n",
       "    <tr>\n",
       "      <th>99</th>\n",
       "      <td>위메프</td>\n",
       "      <td>제품_31</td>\n",
       "      <td>10</td>\n",
       "      <td>684000</td>\n",
       "      <td>온라인II</td>\n",
       "    </tr>\n",
       "  </tbody>\n",
       "</table>\n",
       "</div>"
      ],
      "text/plain": [
       "    쇼핑몰     제품  수량    판매금액 쇼핑몰 유형\n",
       "95  위메프  제품_63   3  400800  온라인II\n",
       "96  위메프  제품_85   7  586600  온라인II\n",
       "97  위메프  제품_95   3  291900  온라인II\n",
       "98  위메프  제품_87   5  654000  온라인II\n",
       "99  위메프  제품_31  10  684000  온라인II"
      ]
     },
     "execution_count": 11,
     "metadata": {},
     "output_type": "execute_result"
    }
   ],
   "source": [
    "df.loc[df['쇼핑몰 유형'].isin(['온라인II','온라인사이트'])].head()"
   ]
  },
  {
   "cell_type": "markdown",
   "metadata": {},
   "source": [
    "# 수량이 5개 이상이고 쇼핑몰 유형은 전시회 인 경우만 인덱싱\n"
   ]
  },
  {
   "cell_type": "markdown",
   "metadata": {},
   "source": [
    "<li> 조건이 2개가 들어갈 경우 괄호로 묶어 준 후 비교 연산자를 사용해야 한다.</li>"
   ]
  },
  {
   "cell_type": "code",
   "execution_count": 10,
   "metadata": {
    "ExecuteTime": {
     "end_time": "2021-04-14T01:21:13.478215Z",
     "start_time": "2021-04-14T01:21:13.454279Z"
    }
   },
   "outputs": [
    {
     "data": {
      "text/html": [
       "<div>\n",
       "<style scoped>\n",
       "    .dataframe tbody tr th:only-of-type {\n",
       "        vertical-align: middle;\n",
       "    }\n",
       "\n",
       "    .dataframe tbody tr th {\n",
       "        vertical-align: top;\n",
       "    }\n",
       "\n",
       "    .dataframe thead th {\n",
       "        text-align: right;\n",
       "    }\n",
       "</style>\n",
       "<table border=\"1\" class=\"dataframe\">\n",
       "  <thead>\n",
       "    <tr style=\"text-align: right;\">\n",
       "      <th></th>\n",
       "      <th>쇼핑몰</th>\n",
       "      <th>제품</th>\n",
       "      <th>수량</th>\n",
       "      <th>판매금액</th>\n",
       "      <th>쇼핑몰 유형</th>\n",
       "    </tr>\n",
       "  </thead>\n",
       "  <tbody>\n",
       "    <tr>\n",
       "      <th>918</th>\n",
       "      <td>KPET</td>\n",
       "      <td>제품_71</td>\n",
       "      <td>5</td>\n",
       "      <td>143500</td>\n",
       "      <td>전시회</td>\n",
       "    </tr>\n",
       "    <tr>\n",
       "      <th>919</th>\n",
       "      <td>KPET</td>\n",
       "      <td>제품_26</td>\n",
       "      <td>6</td>\n",
       "      <td>478200</td>\n",
       "      <td>전시회</td>\n",
       "    </tr>\n",
       "    <tr>\n",
       "      <th>920</th>\n",
       "      <td>KPET</td>\n",
       "      <td>제품_49</td>\n",
       "      <td>8</td>\n",
       "      <td>358400</td>\n",
       "      <td>전시회</td>\n",
       "    </tr>\n",
       "    <tr>\n",
       "      <th>921</th>\n",
       "      <td>KPET</td>\n",
       "      <td>제품_33</td>\n",
       "      <td>7</td>\n",
       "      <td>1073100</td>\n",
       "      <td>전시회</td>\n",
       "    </tr>\n",
       "    <tr>\n",
       "      <th>923</th>\n",
       "      <td>KPET</td>\n",
       "      <td>제품_45</td>\n",
       "      <td>6</td>\n",
       "      <td>88200</td>\n",
       "      <td>전시회</td>\n",
       "    </tr>\n",
       "  </tbody>\n",
       "</table>\n",
       "</div>"
      ],
      "text/plain": [
       "      쇼핑몰     제품  수량     판매금액 쇼핑몰 유형\n",
       "918  KPET  제품_71   5   143500    전시회\n",
       "919  KPET  제품_26   6   478200    전시회\n",
       "920  KPET  제품_49   8   358400    전시회\n",
       "921  KPET  제품_33   7  1073100    전시회\n",
       "923  KPET  제품_45   6    88200    전시회"
      ]
     },
     "execution_count": 10,
     "metadata": {},
     "output_type": "execute_result"
    }
   ],
   "source": [
    "df.loc[(df['수량'] >=5 ) & (df['쇼핑몰 유형'] == '전시회')].head()"
   ]
  },
  {
   "cell_type": "code",
   "execution_count": null,
   "metadata": {},
   "outputs": [],
   "source": []
  },
  {
   "cell_type": "code",
   "execution_count": null,
   "metadata": {},
   "outputs": [],
   "source": []
  },
  {
   "cell_type": "code",
   "execution_count": null,
   "metadata": {},
   "outputs": [],
   "source": []
  },
  {
   "cell_type": "code",
   "execution_count": null,
   "metadata": {},
   "outputs": [],
   "source": []
  },
  {
   "cell_type": "code",
   "execution_count": null,
   "metadata": {},
   "outputs": [],
   "source": []
  },
  {
   "cell_type": "code",
   "execution_count": null,
   "metadata": {},
   "outputs": [],
   "source": []
  }
 ],
 "metadata": {
  "kernelspec": {
   "display_name": "Python [conda env:mdai] *",
   "language": "python",
   "name": "conda-env-mdai-py"
  },
  "language_info": {
   "codemirror_mode": {
    "name": "ipython",
    "version": 3
   },
   "file_extension": ".py",
   "mimetype": "text/x-python",
   "name": "python",
   "nbconvert_exporter": "python",
   "pygments_lexer": "ipython3",
   "version": "3.8.5"
  }
 },
 "nbformat": 4,
 "nbformat_minor": 4
}
