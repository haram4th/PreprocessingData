{
 "cells": [
  {
   "cell_type": "markdown",
   "metadata": {},
   "source": [
    "# concat, os.listdir, openpyxl을 이용한 데이터 통합"
   ]
  },
  {
   "cell_type": "markdown",
   "metadata": {},
   "source": [
    "## 1. merge와 concat의 차이"
   ]
  },
  {
   "cell_type": "markdown",
   "metadata": {},
   "source": [
    "<li> merge는 2개의 데이터 프레임, concat은 2개 이상의 데이터 프레임을 이어 붙이는데 사용</li>\n",
    "<li> 빈데이터 프레임을 만들고 여러 개의 데이터 프레임을 리스트로 입력 받아 붙이는 것이 가능 </li>\n"
   ]
  },
  {
   "cell_type": "markdown",
   "metadata": {},
   "source": [
    "## 2.os.listdir: path상에 있는 모든 파일명을 리스트 형태로 변환"
   ]
  },
  {
   "cell_type": "markdown",
   "metadata": {
    "ExecuteTime": {
     "end_time": "2021-04-07T00:13:58.220297Z",
     "start_time": "2021-04-07T00:13:58.213286Z"
    }
   },
   "source": [
    "## 3.openpyxl를 이용한 엑셀시트 목록 가져오기"
   ]
  },
  {
   "cell_type": "markdown",
   "metadata": {},
   "source": [
    "<li> python 3.8.5에서는 xlrd로 xlsx 파일을 불러오는 것이 불가능</li>\n",
    "<li> xlrd의 대용으로 openpyxl사용</li>\n",
    "<li> wb = openpyxl.load_workbook(file) # 엑셀 파일을 불러와 wb에 저장</li>\n",
    "<li> wb.sheetnames #wb에 있는 시트 목록을 리스트 형태로 반환</li>"
   ]
  },
  {
   "cell_type": "code",
   "execution_count": 2,
   "metadata": {
    "ExecuteTime": {
     "end_time": "2021-04-07T00:19:13.221167Z",
     "start_time": "2021-04-07T00:19:02.772663Z"
    }
   },
   "outputs": [],
   "source": [
    "import os\n",
    "import pandas as pd\n",
    "os.chdir(r\"D:/bigdata/jupyter/data_preprocessing/1. 데이터 핸들링\\데이터/\")"
   ]
  },
  {
   "cell_type": "markdown",
   "metadata": {},
   "source": [
    "# concat 기초"
   ]
  },
  {
   "cell_type": "code",
   "execution_count": 4,
   "metadata": {
    "ExecuteTime": {
     "end_time": "2021-04-07T00:20:59.291117Z",
     "start_time": "2021-04-07T00:20:59.201707Z"
    }
   },
   "outputs": [],
   "source": [
    "df1 = pd.DataFrame({'A':[1,2,3,4], \"B\":[1,2,3,4]})\n",
    "df2 = pd.DataFrame({'A':[5,6,7,8], \"B\":[5,6,7,8]})"
   ]
  },
  {
   "cell_type": "code",
   "execution_count": 5,
   "metadata": {
    "ExecuteTime": {
     "end_time": "2021-04-07T00:22:01.070528Z",
     "start_time": "2021-04-07T00:22:00.519787Z"
    }
   },
   "outputs": [
    {
     "data": {
      "text/html": [
       "<div>\n",
       "<style scoped>\n",
       "    .dataframe tbody tr th:only-of-type {\n",
       "        vertical-align: middle;\n",
       "    }\n",
       "\n",
       "    .dataframe tbody tr th {\n",
       "        vertical-align: top;\n",
       "    }\n",
       "\n",
       "    .dataframe thead th {\n",
       "        text-align: right;\n",
       "    }\n",
       "</style>\n",
       "<table border=\"1\" class=\"dataframe\">\n",
       "  <thead>\n",
       "    <tr style=\"text-align: right;\">\n",
       "      <th></th>\n",
       "      <th>A</th>\n",
       "      <th>B</th>\n",
       "    </tr>\n",
       "  </thead>\n",
       "  <tbody>\n",
       "    <tr>\n",
       "      <th>0</th>\n",
       "      <td>1</td>\n",
       "      <td>1</td>\n",
       "    </tr>\n",
       "    <tr>\n",
       "      <th>1</th>\n",
       "      <td>2</td>\n",
       "      <td>2</td>\n",
       "    </tr>\n",
       "    <tr>\n",
       "      <th>2</th>\n",
       "      <td>3</td>\n",
       "      <td>3</td>\n",
       "    </tr>\n",
       "    <tr>\n",
       "      <th>3</th>\n",
       "      <td>4</td>\n",
       "      <td>4</td>\n",
       "    </tr>\n",
       "    <tr>\n",
       "      <th>4</th>\n",
       "      <td>5</td>\n",
       "      <td>5</td>\n",
       "    </tr>\n",
       "    <tr>\n",
       "      <th>5</th>\n",
       "      <td>6</td>\n",
       "      <td>6</td>\n",
       "    </tr>\n",
       "    <tr>\n",
       "      <th>6</th>\n",
       "      <td>7</td>\n",
       "      <td>7</td>\n",
       "    </tr>\n",
       "    <tr>\n",
       "      <th>7</th>\n",
       "      <td>8</td>\n",
       "      <td>8</td>\n",
       "    </tr>\n",
       "  </tbody>\n",
       "</table>\n",
       "</div>"
      ],
      "text/plain": [
       "   A  B\n",
       "0  1  1\n",
       "1  2  2\n",
       "2  3  3\n",
       "3  4  4\n",
       "4  5  5\n",
       "5  6  6\n",
       "6  7  7\n",
       "7  8  8"
      ]
     },
     "execution_count": 5,
     "metadata": {},
     "output_type": "execute_result"
    }
   ],
   "source": [
    "# df1과 df2를 axis = 0 (행방향으로 붙임-아래)\n",
    "# 행방향으로 붙일 때는 인덱스가 중복될 수 있으므로 ignore_index = True로 초기화 해주는 것이 좋음\n",
    "merged_df = pd.concat([df1,df2], axis = 0, ignore_index = True) \n",
    "merged_df"
   ]
  },
  {
   "cell_type": "code",
   "execution_count": 12,
   "metadata": {
    "ExecuteTime": {
     "end_time": "2021-04-07T00:26:21.714585Z",
     "start_time": "2021-04-07T00:26:21.695984Z"
    }
   },
   "outputs": [],
   "source": [
    "df1 = pd.DataFrame({'A':[1,2,3,4], \"B\":[1,2,3,4]})\n",
    "df2 = pd.DataFrame({'C':[5,6,7,8], \"D\":[5,6,7,8]})"
   ]
  },
  {
   "cell_type": "code",
   "execution_count": 13,
   "metadata": {
    "ExecuteTime": {
     "end_time": "2021-04-07T00:26:24.009923Z",
     "start_time": "2021-04-07T00:26:23.999964Z"
    }
   },
   "outputs": [
    {
     "data": {
      "text/html": [
       "<div>\n",
       "<style scoped>\n",
       "    .dataframe tbody tr th:only-of-type {\n",
       "        vertical-align: middle;\n",
       "    }\n",
       "\n",
       "    .dataframe tbody tr th {\n",
       "        vertical-align: top;\n",
       "    }\n",
       "\n",
       "    .dataframe thead th {\n",
       "        text-align: right;\n",
       "    }\n",
       "</style>\n",
       "<table border=\"1\" class=\"dataframe\">\n",
       "  <thead>\n",
       "    <tr style=\"text-align: right;\">\n",
       "      <th></th>\n",
       "      <th>A</th>\n",
       "      <th>B</th>\n",
       "      <th>C</th>\n",
       "      <th>D</th>\n",
       "    </tr>\n",
       "  </thead>\n",
       "  <tbody>\n",
       "    <tr>\n",
       "      <th>0</th>\n",
       "      <td>1</td>\n",
       "      <td>1</td>\n",
       "      <td>5</td>\n",
       "      <td>5</td>\n",
       "    </tr>\n",
       "    <tr>\n",
       "      <th>1</th>\n",
       "      <td>2</td>\n",
       "      <td>2</td>\n",
       "      <td>6</td>\n",
       "      <td>6</td>\n",
       "    </tr>\n",
       "    <tr>\n",
       "      <th>2</th>\n",
       "      <td>3</td>\n",
       "      <td>3</td>\n",
       "      <td>7</td>\n",
       "      <td>7</td>\n",
       "    </tr>\n",
       "    <tr>\n",
       "      <th>3</th>\n",
       "      <td>4</td>\n",
       "      <td>4</td>\n",
       "      <td>8</td>\n",
       "      <td>8</td>\n",
       "    </tr>\n",
       "  </tbody>\n",
       "</table>\n",
       "</div>"
      ],
      "text/plain": [
       "   A  B  C  D\n",
       "0  1  1  5  5\n",
       "1  2  2  6  6\n",
       "2  3  3  7  7\n",
       "3  4  4  8  8"
      ]
     },
     "execution_count": 13,
     "metadata": {},
     "output_type": "execute_result"
    }
   ],
   "source": [
    "# df1과 df2를 axis = 1 (열방향으로 붙임-옆)\n",
    "# 행방향으로 붙일 때 컬럼명은 중요하므로 ignore_index = False로 해서 유지\n",
    "merged_df = pd.concat([df1,df2], axis = 1, ignore_index = False) \n",
    "merged_df"
   ]
  },
  {
   "cell_type": "markdown",
   "metadata": {},
   "source": [
    "# concat을 이용하여 여러 csv 파일 합치기"
   ]
  },
  {
   "cell_type": "markdown",
   "metadata": {},
   "source": [
    "### 일별 오염 데이터 폴더 안에 있는 20개의 파일을 모두 불러와서 합쳐야 하는 상황\n",
    "### 데이터 프레임을 20개 만들어 합치기 => 비효율적\n",
    "### os.listdir(path)를 이용해서 한 번에 합치는 것이 효율적"
   ]
  },
  {
   "cell_type": "code",
   "execution_count": 15,
   "metadata": {
    "ExecuteTime": {
     "end_time": "2021-04-07T00:29:40.692938Z",
     "start_time": "2021-04-07T00:29:40.680971Z"
    }
   },
   "outputs": [],
   "source": [
    "df1 = pd.read_csv('일별 오염 데이터/2004-03-14_오염_수준.txt', sep='\\t', engine=\"python\")\n",
    "df2 = pd.read_csv('일별 오염 데이터/2004-03-20_오염_수준.txt', sep='\\t', engine=\"python\")"
   ]
  },
  {
   "cell_type": "code",
   "execution_count": 16,
   "metadata": {
    "ExecuteTime": {
     "end_time": "2021-04-07T00:29:47.096274Z",
     "start_time": "2021-04-07T00:29:47.064342Z"
    }
   },
   "outputs": [
    {
     "data": {
      "text/html": [
       "<div>\n",
       "<style scoped>\n",
       "    .dataframe tbody tr th:only-of-type {\n",
       "        vertical-align: middle;\n",
       "    }\n",
       "\n",
       "    .dataframe tbody tr th {\n",
       "        vertical-align: top;\n",
       "    }\n",
       "\n",
       "    .dataframe thead th {\n",
       "        text-align: right;\n",
       "    }\n",
       "</style>\n",
       "<table border=\"1\" class=\"dataframe\">\n",
       "  <thead>\n",
       "    <tr style=\"text-align: right;\">\n",
       "      <th></th>\n",
       "      <th>Date</th>\n",
       "      <th>Time</th>\n",
       "      <th>CO(GT)</th>\n",
       "      <th>PT08.S1(CO)</th>\n",
       "      <th>NMHC(GT)</th>\n",
       "      <th>C6H6(GT)</th>\n",
       "      <th>PT08.S2(NMHC)</th>\n",
       "      <th>NOx(GT)</th>\n",
       "      <th>PT08.S3(NOx)</th>\n",
       "      <th>NO2(GT)</th>\n",
       "      <th>PT08.S4(NO2)</th>\n",
       "      <th>PT08.S5(O3)</th>\n",
       "      <th>T</th>\n",
       "      <th>RH</th>\n",
       "      <th>AH</th>\n",
       "    </tr>\n",
       "  </thead>\n",
       "  <tbody>\n",
       "    <tr>\n",
       "      <th>0</th>\n",
       "      <td>2004-03-14</td>\n",
       "      <td>00:00:00</td>\n",
       "      <td>2.9</td>\n",
       "      <td>1533.50</td>\n",
       "      <td>93.0</td>\n",
       "      <td>10.963458</td>\n",
       "      <td>1013.00</td>\n",
       "      <td>190.0</td>\n",
       "      <td>888.50</td>\n",
       "      <td>129.0</td>\n",
       "      <td>1610.75</td>\n",
       "      <td>1534.75</td>\n",
       "      <td>13.95</td>\n",
       "      <td>53.600000</td>\n",
       "      <td>0.849772</td>\n",
       "    </tr>\n",
       "    <tr>\n",
       "      <th>1</th>\n",
       "      <td>2004-03-14</td>\n",
       "      <td>01:00:00</td>\n",
       "      <td>2.8</td>\n",
       "      <td>1483.50</td>\n",
       "      <td>131.0</td>\n",
       "      <td>11.860179</td>\n",
       "      <td>1044.75</td>\n",
       "      <td>174.0</td>\n",
       "      <td>879.75</td>\n",
       "      <td>119.0</td>\n",
       "      <td>1624.25</td>\n",
       "      <td>1529.75</td>\n",
       "      <td>14.65</td>\n",
       "      <td>51.500000</td>\n",
       "      <td>0.853623</td>\n",
       "    </tr>\n",
       "    <tr>\n",
       "      <th>2</th>\n",
       "      <td>2004-03-14</td>\n",
       "      <td>02:00:00</td>\n",
       "      <td>2.5</td>\n",
       "      <td>1366.75</td>\n",
       "      <td>92.0</td>\n",
       "      <td>8.624679</td>\n",
       "      <td>924.50</td>\n",
       "      <td>128.0</td>\n",
       "      <td>952.50</td>\n",
       "      <td>104.0</td>\n",
       "      <td>1543.00</td>\n",
       "      <td>1337.00</td>\n",
       "      <td>12.55</td>\n",
       "      <td>58.900001</td>\n",
       "      <td>0.853740</td>\n",
       "    </tr>\n",
       "    <tr>\n",
       "      <th>3</th>\n",
       "      <td>2004-03-14</td>\n",
       "      <td>03:00:00</td>\n",
       "      <td>2.4</td>\n",
       "      <td>1344.00</td>\n",
       "      <td>132.0</td>\n",
       "      <td>9.737786</td>\n",
       "      <td>967.75</td>\n",
       "      <td>-200.0</td>\n",
       "      <td>920.50</td>\n",
       "      <td>-200.0</td>\n",
       "      <td>1619.75</td>\n",
       "      <td>1278.25</td>\n",
       "      <td>11.65</td>\n",
       "      <td>63.425000</td>\n",
       "      <td>0.867449</td>\n",
       "    </tr>\n",
       "    <tr>\n",
       "      <th>4</th>\n",
       "      <td>2004-03-14</td>\n",
       "      <td>04:00:00</td>\n",
       "      <td>-200.0</td>\n",
       "      <td>1129.50</td>\n",
       "      <td>56.0</td>\n",
       "      <td>5.191654</td>\n",
       "      <td>773.00</td>\n",
       "      <td>70.0</td>\n",
       "      <td>1130.25</td>\n",
       "      <td>82.0</td>\n",
       "      <td>1451.75</td>\n",
       "      <td>1050.50</td>\n",
       "      <td>12.10</td>\n",
       "      <td>61.100001</td>\n",
       "      <td>0.860316</td>\n",
       "    </tr>\n",
       "  </tbody>\n",
       "</table>\n",
       "</div>"
      ],
      "text/plain": [
       "         Date      Time  CO(GT)  PT08.S1(CO)  NMHC(GT)   C6H6(GT)  \\\n",
       "0  2004-03-14  00:00:00     2.9      1533.50      93.0  10.963458   \n",
       "1  2004-03-14  01:00:00     2.8      1483.50     131.0  11.860179   \n",
       "2  2004-03-14  02:00:00     2.5      1366.75      92.0   8.624679   \n",
       "3  2004-03-14  03:00:00     2.4      1344.00     132.0   9.737786   \n",
       "4  2004-03-14  04:00:00  -200.0      1129.50      56.0   5.191654   \n",
       "\n",
       "   PT08.S2(NMHC)  NOx(GT)  PT08.S3(NOx)  NO2(GT)  PT08.S4(NO2)  PT08.S5(O3)  \\\n",
       "0        1013.00    190.0        888.50    129.0       1610.75      1534.75   \n",
       "1        1044.75    174.0        879.75    119.0       1624.25      1529.75   \n",
       "2         924.50    128.0        952.50    104.0       1543.00      1337.00   \n",
       "3         967.75   -200.0        920.50   -200.0       1619.75      1278.25   \n",
       "4         773.00     70.0       1130.25     82.0       1451.75      1050.50   \n",
       "\n",
       "       T         RH        AH  \n",
       "0  13.95  53.600000  0.849772  \n",
       "1  14.65  51.500000  0.853623  \n",
       "2  12.55  58.900001  0.853740  \n",
       "3  11.65  63.425000  0.867449  \n",
       "4  12.10  61.100001  0.860316  "
      ]
     },
     "execution_count": 16,
     "metadata": {},
     "output_type": "execute_result"
    }
   ],
   "source": [
    "df1.head()"
   ]
  },
  {
   "cell_type": "code",
   "execution_count": 17,
   "metadata": {
    "ExecuteTime": {
     "end_time": "2021-04-07T00:29:54.765528Z",
     "start_time": "2021-04-07T00:29:54.729628Z"
    }
   },
   "outputs": [
    {
     "data": {
      "text/html": [
       "<div>\n",
       "<style scoped>\n",
       "    .dataframe tbody tr th:only-of-type {\n",
       "        vertical-align: middle;\n",
       "    }\n",
       "\n",
       "    .dataframe tbody tr th {\n",
       "        vertical-align: top;\n",
       "    }\n",
       "\n",
       "    .dataframe thead th {\n",
       "        text-align: right;\n",
       "    }\n",
       "</style>\n",
       "<table border=\"1\" class=\"dataframe\">\n",
       "  <thead>\n",
       "    <tr style=\"text-align: right;\">\n",
       "      <th></th>\n",
       "      <th>Date</th>\n",
       "      <th>Time</th>\n",
       "      <th>CO(GT)</th>\n",
       "      <th>PT08.S1(CO)</th>\n",
       "      <th>NMHC(GT)</th>\n",
       "      <th>C6H6(GT)</th>\n",
       "      <th>PT08.S2(NMHC)</th>\n",
       "      <th>NOx(GT)</th>\n",
       "      <th>PT08.S3(NOx)</th>\n",
       "      <th>NO2(GT)</th>\n",
       "      <th>PT08.S4(NO2)</th>\n",
       "      <th>PT08.S5(O3)</th>\n",
       "      <th>T</th>\n",
       "      <th>RH</th>\n",
       "      <th>AH</th>\n",
       "    </tr>\n",
       "  </thead>\n",
       "  <tbody>\n",
       "    <tr>\n",
       "      <th>0</th>\n",
       "      <td>2004-03-20</td>\n",
       "      <td>00:00:00</td>\n",
       "      <td>1.7</td>\n",
       "      <td>1126.75</td>\n",
       "      <td>-200.0</td>\n",
       "      <td>5.791192</td>\n",
       "      <td>802.00</td>\n",
       "      <td>104.0</td>\n",
       "      <td>1064.00</td>\n",
       "      <td>92.0</td>\n",
       "      <td>1446.50</td>\n",
       "      <td>837.00</td>\n",
       "      <td>13.775</td>\n",
       "      <td>57.95</td>\n",
       "      <td>0.908544</td>\n",
       "    </tr>\n",
       "    <tr>\n",
       "      <th>1</th>\n",
       "      <td>2004-03-20</td>\n",
       "      <td>01:00:00</td>\n",
       "      <td>1.6</td>\n",
       "      <td>1090.25</td>\n",
       "      <td>-200.0</td>\n",
       "      <td>5.191654</td>\n",
       "      <td>773.00</td>\n",
       "      <td>NaN</td>\n",
       "      <td>1105.25</td>\n",
       "      <td>83.0</td>\n",
       "      <td>1428.50</td>\n",
       "      <td>761.00</td>\n",
       "      <td>13.900</td>\n",
       "      <td>55.95</td>\n",
       "      <td>0.884207</td>\n",
       "    </tr>\n",
       "    <tr>\n",
       "      <th>2</th>\n",
       "      <td>2004-03-20</td>\n",
       "      <td>02:00:00</td>\n",
       "      <td>1.3</td>\n",
       "      <td>1017.00</td>\n",
       "      <td>-200.0</td>\n",
       "      <td>4.123187</td>\n",
       "      <td>717.50</td>\n",
       "      <td>74.0</td>\n",
       "      <td>1181.75</td>\n",
       "      <td>81.0</td>\n",
       "      <td>1382.25</td>\n",
       "      <td>650.25</td>\n",
       "      <td>13.875</td>\n",
       "      <td>55.55</td>\n",
       "      <td>0.876488</td>\n",
       "    </tr>\n",
       "    <tr>\n",
       "      <th>3</th>\n",
       "      <td>2004-03-20</td>\n",
       "      <td>03:00:00</td>\n",
       "      <td>1.3</td>\n",
       "      <td>997.25</td>\n",
       "      <td>-200.0</td>\n",
       "      <td>3.410629</td>\n",
       "      <td>677.00</td>\n",
       "      <td>-200.0</td>\n",
       "      <td>1252.25</td>\n",
       "      <td>-200.0</td>\n",
       "      <td>1358.50</td>\n",
       "      <td>590.75</td>\n",
       "      <td>13.825</td>\n",
       "      <td>55.10</td>\n",
       "      <td>0.866620</td>\n",
       "    </tr>\n",
       "    <tr>\n",
       "      <th>4</th>\n",
       "      <td>2004-03-20</td>\n",
       "      <td>04:00:00</td>\n",
       "      <td>-200.0</td>\n",
       "      <td>944.75</td>\n",
       "      <td>-200.0</td>\n",
       "      <td>2.908548</td>\n",
       "      <td>646.25</td>\n",
       "      <td>44.0</td>\n",
       "      <td>1308.00</td>\n",
       "      <td>55.0</td>\n",
       "      <td>1331.50</td>\n",
       "      <td>505.00</td>\n",
       "      <td>13.800</td>\n",
       "      <td>54.60</td>\n",
       "      <td>0.857388</td>\n",
       "    </tr>\n",
       "  </tbody>\n",
       "</table>\n",
       "</div>"
      ],
      "text/plain": [
       "         Date      Time  CO(GT)  PT08.S1(CO)  NMHC(GT)  C6H6(GT)  \\\n",
       "0  2004-03-20  00:00:00     1.7      1126.75    -200.0  5.791192   \n",
       "1  2004-03-20  01:00:00     1.6      1090.25    -200.0  5.191654   \n",
       "2  2004-03-20  02:00:00     1.3      1017.00    -200.0  4.123187   \n",
       "3  2004-03-20  03:00:00     1.3       997.25    -200.0  3.410629   \n",
       "4  2004-03-20  04:00:00  -200.0       944.75    -200.0  2.908548   \n",
       "\n",
       "   PT08.S2(NMHC)  NOx(GT)  PT08.S3(NOx)  NO2(GT)  PT08.S4(NO2)  PT08.S5(O3)  \\\n",
       "0         802.00    104.0       1064.00     92.0       1446.50       837.00   \n",
       "1         773.00      NaN       1105.25     83.0       1428.50       761.00   \n",
       "2         717.50     74.0       1181.75     81.0       1382.25       650.25   \n",
       "3         677.00   -200.0       1252.25   -200.0       1358.50       590.75   \n",
       "4         646.25     44.0       1308.00     55.0       1331.50       505.00   \n",
       "\n",
       "        T     RH        AH  \n",
       "0  13.775  57.95  0.908544  \n",
       "1  13.900  55.95  0.884207  \n",
       "2  13.875  55.55  0.876488  \n",
       "3  13.825  55.10  0.866620  \n",
       "4  13.800  54.60  0.857388  "
      ]
     },
     "execution_count": 17,
     "metadata": {},
     "output_type": "execute_result"
    }
   ],
   "source": [
    "df2.head()"
   ]
  },
  {
   "cell_type": "markdown",
   "metadata": {},
   "source": [
    "# 1.for문을 이용해 데이터 프레임을 만들고 합치기\n"
   ]
  },
  {
   "cell_type": "markdown",
   "metadata": {},
   "source": [
    "<li>긴 코드, 상대적으로 비효율적</li>\n",
    "<li>메모리 문제가 생길 가능성은 적음</li>\n",
    "<li>파일 크기가 큰 경우 메모리 관리 때문에 for문을 이용하는 것이 적합</li>"
   ]
  },
  {
   "cell_type": "code",
   "execution_count": 22,
   "metadata": {
    "ExecuteTime": {
     "end_time": "2021-04-07T00:42:59.624076Z",
     "start_time": "2021-04-07T00:42:59.611095Z"
    }
   },
   "outputs": [
    {
     "data": {
      "text/plain": [
       "['2004-03-11_오염_수준.txt',\n",
       " '2004-03-12_오염_수준.txt',\n",
       " '2004-03-13_오염_수준.txt',\n",
       " '2004-03-14_오염_수준.txt',\n",
       " '2004-03-15_오염_수준.txt',\n",
       " '2004-03-16_오염_수준.txt',\n",
       " '2004-03-17_오염_수준.txt',\n",
       " '2004-03-18_오염_수준.txt',\n",
       " '2004-03-19_오염_수준.txt',\n",
       " '2004-03-20_오염_수준.txt',\n",
       " '2004-03-21_오염_수준.txt',\n",
       " '2004-03-22_오염_수준.txt',\n",
       " '2004-03-23_오염_수준.txt',\n",
       " '2004-03-24_오염_수준.txt',\n",
       " '2004-03-25_오염_수준.txt',\n",
       " '2004-03-26_오염_수준.txt',\n",
       " '2004-03-27_오염_수준.txt',\n",
       " '2004-03-28_오염_수준.txt',\n",
       " '2004-03-29_오염_수준.txt',\n",
       " '2004-03-30_오염_수준.txt',\n",
       " '2004-03-31_오염_수준.txt',\n",
       " 'desktop.ini']"
      ]
     },
     "execution_count": 22,
     "metadata": {},
     "output_type": "execute_result"
    }
   ],
   "source": [
    "# 일별 오염 데이터 폴더에 있는 파일들을 리스트 형태로 읽기\n",
    "os.listdir(\"일별 오염 데이터\")"
   ]
  },
  {
   "cell_type": "code",
   "execution_count": 23,
   "metadata": {
    "ExecuteTime": {
     "end_time": "2021-04-07T00:43:35.468063Z",
     "start_time": "2021-04-07T00:43:35.385782Z"
    }
   },
   "outputs": [],
   "source": [
    "merged_df = pd.DataFrame() #빈 데이터 프레임 생성\n",
    "for file in os.listdir(\"일별 오염 데이터\"):\n",
    "    if '오염_수준.txt' in file:  #오염_수준.txt로 끝나는 파일들을 읽어 옴\n",
    "        df = pd.read_csv(\"일별 오염 데이터/\" + file, sep=\"\\t\", engine='python')\n",
    "        merged_df = pd.concat([merged_df, df], axis = 0, ignore_index=True)"
   ]
  },
  {
   "cell_type": "code",
   "execution_count": 20,
   "metadata": {
    "ExecuteTime": {
     "end_time": "2021-04-07T00:40:52.195778Z",
     "start_time": "2021-04-07T00:40:52.168835Z"
    }
   },
   "outputs": [
    {
     "data": {
      "text/html": [
       "<div>\n",
       "<style scoped>\n",
       "    .dataframe tbody tr th:only-of-type {\n",
       "        vertical-align: middle;\n",
       "    }\n",
       "\n",
       "    .dataframe tbody tr th {\n",
       "        vertical-align: top;\n",
       "    }\n",
       "\n",
       "    .dataframe thead th {\n",
       "        text-align: right;\n",
       "    }\n",
       "</style>\n",
       "<table border=\"1\" class=\"dataframe\">\n",
       "  <thead>\n",
       "    <tr style=\"text-align: right;\">\n",
       "      <th></th>\n",
       "      <th>Date</th>\n",
       "      <th>Time</th>\n",
       "      <th>CO(GT)</th>\n",
       "      <th>PT08.S1(CO)</th>\n",
       "      <th>NMHC(GT)</th>\n",
       "      <th>C6H6(GT)</th>\n",
       "      <th>PT08.S2(NMHC)</th>\n",
       "      <th>NOx(GT)</th>\n",
       "      <th>PT08.S3(NOx)</th>\n",
       "      <th>NO2(GT)</th>\n",
       "      <th>PT08.S4(NO2)</th>\n",
       "      <th>PT08.S5(O3)</th>\n",
       "      <th>T</th>\n",
       "      <th>RH</th>\n",
       "      <th>AH</th>\n",
       "    </tr>\n",
       "  </thead>\n",
       "  <tbody>\n",
       "    <tr>\n",
       "      <th>0</th>\n",
       "      <td>2004-03-11</td>\n",
       "      <td>00:00:00</td>\n",
       "      <td>1.2</td>\n",
       "      <td>1185.00</td>\n",
       "      <td>31.0</td>\n",
       "      <td>3.624399</td>\n",
       "      <td>689.50</td>\n",
       "      <td>62.0</td>\n",
       "      <td>1461.75</td>\n",
       "      <td>77.0</td>\n",
       "      <td>1332.75</td>\n",
       "      <td>732.50</td>\n",
       "      <td>11.325</td>\n",
       "      <td>56.775000</td>\n",
       "      <td>0.760312</td>\n",
       "    </tr>\n",
       "    <tr>\n",
       "      <th>1</th>\n",
       "      <td>2004-03-11</td>\n",
       "      <td>01:00:00</td>\n",
       "      <td>1.0</td>\n",
       "      <td>1136.25</td>\n",
       "      <td>31.0</td>\n",
       "      <td>3.326677</td>\n",
       "      <td>672.00</td>\n",
       "      <td>62.0</td>\n",
       "      <td>1453.25</td>\n",
       "      <td>76.0</td>\n",
       "      <td>1332.75</td>\n",
       "      <td>729.50</td>\n",
       "      <td>10.675</td>\n",
       "      <td>60.000000</td>\n",
       "      <td>0.770238</td>\n",
       "    </tr>\n",
       "    <tr>\n",
       "      <th>2</th>\n",
       "      <td>2004-03-11</td>\n",
       "      <td>02:00:00</td>\n",
       "      <td>0.9</td>\n",
       "      <td>1094.00</td>\n",
       "      <td>24.0</td>\n",
       "      <td>2.339416</td>\n",
       "      <td>608.50</td>\n",
       "      <td>45.0</td>\n",
       "      <td>1579.00</td>\n",
       "      <td>60.0</td>\n",
       "      <td>1276.00</td>\n",
       "      <td>619.50</td>\n",
       "      <td>10.650</td>\n",
       "      <td>59.674999</td>\n",
       "      <td>0.764819</td>\n",
       "    </tr>\n",
       "    <tr>\n",
       "      <th>3</th>\n",
       "      <td>2004-03-11</td>\n",
       "      <td>03:00:00</td>\n",
       "      <td>0.6</td>\n",
       "      <td>1009.75</td>\n",
       "      <td>19.0</td>\n",
       "      <td>1.696658</td>\n",
       "      <td>560.75</td>\n",
       "      <td>-200.0</td>\n",
       "      <td>1705.00</td>\n",
       "      <td>-200.0</td>\n",
       "      <td>1234.75</td>\n",
       "      <td>501.25</td>\n",
       "      <td>10.250</td>\n",
       "      <td>60.200001</td>\n",
       "      <td>0.751657</td>\n",
       "    </tr>\n",
       "    <tr>\n",
       "      <th>4</th>\n",
       "      <td>2004-03-11</td>\n",
       "      <td>04:00:00</td>\n",
       "      <td>-200.0</td>\n",
       "      <td>1011.00</td>\n",
       "      <td>14.0</td>\n",
       "      <td>1.293620</td>\n",
       "      <td>526.75</td>\n",
       "      <td>21.0</td>\n",
       "      <td>1817.50</td>\n",
       "      <td>34.0</td>\n",
       "      <td>1196.75</td>\n",
       "      <td>445.25</td>\n",
       "      <td>10.075</td>\n",
       "      <td>60.474999</td>\n",
       "      <td>0.746495</td>\n",
       "    </tr>\n",
       "  </tbody>\n",
       "</table>\n",
       "</div>"
      ],
      "text/plain": [
       "         Date      Time  CO(GT)  PT08.S1(CO)  NMHC(GT)  C6H6(GT)  \\\n",
       "0  2004-03-11  00:00:00     1.2      1185.00      31.0  3.624399   \n",
       "1  2004-03-11  01:00:00     1.0      1136.25      31.0  3.326677   \n",
       "2  2004-03-11  02:00:00     0.9      1094.00      24.0  2.339416   \n",
       "3  2004-03-11  03:00:00     0.6      1009.75      19.0  1.696658   \n",
       "4  2004-03-11  04:00:00  -200.0      1011.00      14.0  1.293620   \n",
       "\n",
       "   PT08.S2(NMHC)  NOx(GT)  PT08.S3(NOx)  NO2(GT)  PT08.S4(NO2)  PT08.S5(O3)  \\\n",
       "0         689.50     62.0       1461.75     77.0       1332.75       732.50   \n",
       "1         672.00     62.0       1453.25     76.0       1332.75       729.50   \n",
       "2         608.50     45.0       1579.00     60.0       1276.00       619.50   \n",
       "3         560.75   -200.0       1705.00   -200.0       1234.75       501.25   \n",
       "4         526.75     21.0       1817.50     34.0       1196.75       445.25   \n",
       "\n",
       "        T         RH        AH  \n",
       "0  11.325  56.775000  0.760312  \n",
       "1  10.675  60.000000  0.770238  \n",
       "2  10.650  59.674999  0.764819  \n",
       "3  10.250  60.200001  0.751657  \n",
       "4  10.075  60.474999  0.746495  "
      ]
     },
     "execution_count": 20,
     "metadata": {},
     "output_type": "execute_result"
    }
   ],
   "source": [
    "merged_df.head()"
   ]
  },
  {
   "cell_type": "code",
   "execution_count": 21,
   "metadata": {
    "ExecuteTime": {
     "end_time": "2021-04-07T00:41:05.279559Z",
     "start_time": "2021-04-07T00:41:04.859209Z"
    }
   },
   "outputs": [
    {
     "name": "stdout",
     "output_type": "stream",
     "text": [
      "<class 'pandas.core.frame.DataFrame'>\n",
      "RangeIndex: 504 entries, 0 to 503\n",
      "Data columns (total 15 columns):\n",
      " #   Column         Non-Null Count  Dtype  \n",
      "---  ------         --------------  -----  \n",
      " 0   Date           504 non-null    object \n",
      " 1   Time           504 non-null    object \n",
      " 2   CO(GT)         504 non-null    float64\n",
      " 3   PT08.S1(CO)    502 non-null    float64\n",
      " 4   NMHC(GT)       502 non-null    float64\n",
      " 5   C6H6(GT)       494 non-null    float64\n",
      " 6   PT08.S2(NMHC)  500 non-null    float64\n",
      " 7   NOx(GT)        498 non-null    float64\n",
      " 8   PT08.S3(NOx)   497 non-null    float64\n",
      " 9   NO2(GT)        498 non-null    float64\n",
      " 10  PT08.S4(NO2)   498 non-null    float64\n",
      " 11  PT08.S5(O3)    503 non-null    float64\n",
      " 12  T              504 non-null    float64\n",
      " 13  RH             504 non-null    float64\n",
      " 14  AH             504 non-null    float64\n",
      "dtypes: float64(13), object(2)\n",
      "memory usage: 59.2+ KB\n"
     ]
    }
   ],
   "source": [
    "merged_df.info()"
   ]
  },
  {
   "cell_type": "markdown",
   "metadata": {},
   "source": [
    "# 2.list comprehension을 이용한 데이터 통합"
   ]
  },
  {
   "cell_type": "markdown",
   "metadata": {},
   "source": [
    "<li> 코드가 짧음, 효율적</li>\n",
    "<li> 단, 메모리 문제가 생길 수 있음 </li>\n",
    "<li> 파일의 크기가 작을 경우 for문 보다 효율적으로 처리 가능 </li>\n",
    "<li> 대용량 파일에는 적합하지 않음 </li>"
   ]
  },
  {
   "cell_type": "code",
   "execution_count": 25,
   "metadata": {
    "ExecuteTime": {
     "end_time": "2021-04-07T00:50:44.707188Z",
     "start_time": "2021-04-07T00:50:44.611361Z"
    }
   },
   "outputs": [],
   "source": [
    "merged_df = pd.concat([pd.read_csv(\"일별 오염 데이터/\" + file, sep=\"\\t\", engine=\"python\")\n",
    "                      for file in os.listdir(\"일별 오염 데이터\") if '오염_수준.txt' in file])"
   ]
  },
  {
   "cell_type": "code",
   "execution_count": 26,
   "metadata": {
    "ExecuteTime": {
     "end_time": "2021-04-07T00:50:55.803220Z",
     "start_time": "2021-04-07T00:50:55.777277Z"
    }
   },
   "outputs": [
    {
     "name": "stdout",
     "output_type": "stream",
     "text": [
      "<class 'pandas.core.frame.DataFrame'>\n",
      "Int64Index: 504 entries, 0 to 23\n",
      "Data columns (total 15 columns):\n",
      " #   Column         Non-Null Count  Dtype  \n",
      "---  ------         --------------  -----  \n",
      " 0   Date           504 non-null    object \n",
      " 1   Time           504 non-null    object \n",
      " 2   CO(GT)         504 non-null    float64\n",
      " 3   PT08.S1(CO)    502 non-null    float64\n",
      " 4   NMHC(GT)       502 non-null    float64\n",
      " 5   C6H6(GT)       494 non-null    float64\n",
      " 6   PT08.S2(NMHC)  500 non-null    float64\n",
      " 7   NOx(GT)        498 non-null    float64\n",
      " 8   PT08.S3(NOx)   497 non-null    float64\n",
      " 9   NO2(GT)        498 non-null    float64\n",
      " 10  PT08.S4(NO2)   498 non-null    float64\n",
      " 11  PT08.S5(O3)    503 non-null    float64\n",
      " 12  T              504 non-null    float64\n",
      " 13  RH             504 non-null    float64\n",
      " 14  AH             504 non-null    float64\n",
      "dtypes: float64(13), object(2)\n",
      "memory usage: 63.0+ KB\n"
     ]
    }
   ],
   "source": [
    "merged_df.info()"
   ]
  },
  {
   "cell_type": "markdown",
   "metadata": {},
   "source": [
    "# 3. openpyxl 과 concat을 이용한 엑셀 시트 통합"
   ]
  },
  {
   "cell_type": "markdown",
   "metadata": {},
   "source": [
    "### python 3.8.5 에서 xlrd로 .xlsx 파일 로드 불가\n",
    "### openpyxl로 는 가능\n",
    "### pandas에서도 pd.read_excel(파일명, engine=\"openpyxl\") 을 써야 읽을 수 있음"
   ]
  },
  {
   "cell_type": "code",
   "execution_count": 33,
   "metadata": {
    "ExecuteTime": {
     "end_time": "2021-04-07T01:04:43.857424Z",
     "start_time": "2021-04-07T01:04:41.594473Z"
    }
   },
   "outputs": [
    {
     "data": {
      "text/plain": [
       "['1월', '2월', '3월', '4월', '5월', '6월', '7월', '8월', '9월', '10월', '11월', '12월']"
      ]
     },
     "execution_count": 33,
     "metadata": {},
     "output_type": "execute_result"
    }
   ],
   "source": [
    "import openpyxl\n",
    "wb = openpyxl.load_workbook('월별매출데이터.xlsx')\n",
    "sheetnames = wb.sheetnames\n",
    "sheetnames"
   ]
  },
  {
   "cell_type": "markdown",
   "metadata": {
    "ExecuteTime": {
     "end_time": "2021-04-07T01:19:55.196307Z",
     "start_time": "2021-04-07T01:19:55.188330Z"
    }
   },
   "source": [
    "## for문과 concat을 이용한 엑셀 시트 통합"
   ]
  },
  {
   "cell_type": "code",
   "execution_count": 38,
   "metadata": {
    "ExecuteTime": {
     "end_time": "2021-04-07T01:17:47.738883Z",
     "start_time": "2021-04-07T01:17:44.427223Z"
    },
    "scrolled": false
   },
   "outputs": [
    {
     "data": {
      "text/html": [
       "<div>\n",
       "<style scoped>\n",
       "    .dataframe tbody tr th:only-of-type {\n",
       "        vertical-align: middle;\n",
       "    }\n",
       "\n",
       "    .dataframe tbody tr th {\n",
       "        vertical-align: top;\n",
       "    }\n",
       "\n",
       "    .dataframe thead th {\n",
       "        text-align: right;\n",
       "    }\n",
       "</style>\n",
       "<table border=\"1\" class=\"dataframe\">\n",
       "  <thead>\n",
       "    <tr style=\"text-align: right;\">\n",
       "      <th></th>\n",
       "      <th>일자</th>\n",
       "      <th>지점</th>\n",
       "      <th>품명</th>\n",
       "      <th>수량</th>\n",
       "      <th>주문인 ID</th>\n",
       "      <th>수령 주소</th>\n",
       "      <th>주문 상태</th>\n",
       "      <th>결제 수단</th>\n",
       "    </tr>\n",
       "  </thead>\n",
       "  <tbody>\n",
       "    <tr>\n",
       "      <th>0</th>\n",
       "      <td>2018.1.1</td>\n",
       "      <td>지점1</td>\n",
       "      <td>제품B</td>\n",
       "      <td>3</td>\n",
       "      <td>C-168</td>\n",
       "      <td>서울특별시 동작구 흑석동</td>\n",
       "      <td>주문완료</td>\n",
       "      <td>인터넷뱅킹</td>\n",
       "    </tr>\n",
       "    <tr>\n",
       "      <th>1</th>\n",
       "      <td>2018.1.1</td>\n",
       "      <td>지점2</td>\n",
       "      <td>제품F</td>\n",
       "      <td>8</td>\n",
       "      <td>C-87</td>\n",
       "      <td>서울특별시 서대문구 신촌동</td>\n",
       "      <td>배송완료</td>\n",
       "      <td>신용카드</td>\n",
       "    </tr>\n",
       "    <tr>\n",
       "      <th>2</th>\n",
       "      <td>2018.1.1</td>\n",
       "      <td>지점4</td>\n",
       "      <td>제품B</td>\n",
       "      <td>2</td>\n",
       "      <td>C-158</td>\n",
       "      <td>서울특별시 종로구 종로5가</td>\n",
       "      <td>배송완료</td>\n",
       "      <td>휴대폰결제</td>\n",
       "    </tr>\n",
       "    <tr>\n",
       "      <th>3</th>\n",
       "      <td>2018.1.1</td>\n",
       "      <td>지점3</td>\n",
       "      <td>제품D</td>\n",
       "      <td>7</td>\n",
       "      <td>C-307</td>\n",
       "      <td>서울특별시 서대문구 냉천동</td>\n",
       "      <td>주문완료</td>\n",
       "      <td>휴대폰결제</td>\n",
       "    </tr>\n",
       "    <tr>\n",
       "      <th>4</th>\n",
       "      <td>2018.1.1</td>\n",
       "      <td>지점2</td>\n",
       "      <td>제품E</td>\n",
       "      <td>9</td>\n",
       "      <td>C-342</td>\n",
       "      <td>서울특별시 종로구 묘동</td>\n",
       "      <td>배송완료</td>\n",
       "      <td>인터넷뱅킹</td>\n",
       "    </tr>\n",
       "    <tr>\n",
       "      <th>...</th>\n",
       "      <td>...</td>\n",
       "      <td>...</td>\n",
       "      <td>...</td>\n",
       "      <td>...</td>\n",
       "      <td>...</td>\n",
       "      <td>...</td>\n",
       "      <td>...</td>\n",
       "      <td>...</td>\n",
       "    </tr>\n",
       "    <tr>\n",
       "      <th>18224</th>\n",
       "      <td>2018-12-31</td>\n",
       "      <td>지점1</td>\n",
       "      <td>제품F</td>\n",
       "      <td>6</td>\n",
       "      <td>C-59</td>\n",
       "      <td>서울특별시 성북구 보문동3가</td>\n",
       "      <td>배송중</td>\n",
       "      <td>신용카드</td>\n",
       "    </tr>\n",
       "    <tr>\n",
       "      <th>18225</th>\n",
       "      <td>2018-12-31</td>\n",
       "      <td>지점2</td>\n",
       "      <td>제품D</td>\n",
       "      <td>9</td>\n",
       "      <td>C-287</td>\n",
       "      <td>서울특별시 중구 의주로1가</td>\n",
       "      <td>배송중</td>\n",
       "      <td>인터넷뱅킹</td>\n",
       "    </tr>\n",
       "    <tr>\n",
       "      <th>18226</th>\n",
       "      <td>2018-12-31</td>\n",
       "      <td>지점4</td>\n",
       "      <td>제품D</td>\n",
       "      <td>5</td>\n",
       "      <td>C-175</td>\n",
       "      <td>서울특별시 종로구 명륜1가</td>\n",
       "      <td>주문완료</td>\n",
       "      <td>인터넷뱅킹</td>\n",
       "    </tr>\n",
       "    <tr>\n",
       "      <th>18227</th>\n",
       "      <td>2018-12-31</td>\n",
       "      <td>지점1</td>\n",
       "      <td>제품B</td>\n",
       "      <td>4</td>\n",
       "      <td>C-17</td>\n",
       "      <td>서울특별시 영등포구 양평동3가</td>\n",
       "      <td>주문완료</td>\n",
       "      <td>인터넷뱅킹</td>\n",
       "    </tr>\n",
       "    <tr>\n",
       "      <th>18228</th>\n",
       "      <td>2018-12-31</td>\n",
       "      <td>지점2</td>\n",
       "      <td>제품D</td>\n",
       "      <td>4</td>\n",
       "      <td>C-156</td>\n",
       "      <td>서울특별시 중구 을지로2가</td>\n",
       "      <td>배송중</td>\n",
       "      <td>인터넷뱅킹</td>\n",
       "    </tr>\n",
       "  </tbody>\n",
       "</table>\n",
       "<p>18229 rows × 8 columns</p>\n",
       "</div>"
      ],
      "text/plain": [
       "               일자   지점   품명  수량 주문인 ID             수령 주소 주문 상태  결제 수단\n",
       "0        2018.1.1  지점1  제품B   3  C-168     서울특별시 동작구 흑석동  주문완료  인터넷뱅킹\n",
       "1        2018.1.1  지점2  제품F   8   C-87    서울특별시 서대문구 신촌동  배송완료   신용카드\n",
       "2        2018.1.1  지점4  제품B   2  C-158    서울특별시 종로구 종로5가  배송완료  휴대폰결제\n",
       "3        2018.1.1  지점3  제품D   7  C-307    서울특별시 서대문구 냉천동  주문완료  휴대폰결제\n",
       "4        2018.1.1  지점2  제품E   9  C-342      서울특별시 종로구 묘동  배송완료  인터넷뱅킹\n",
       "...           ...  ...  ...  ..    ...               ...   ...    ...\n",
       "18224  2018-12-31  지점1  제품F   6   C-59   서울특별시 성북구 보문동3가   배송중   신용카드\n",
       "18225  2018-12-31  지점2  제품D   9  C-287    서울특별시 중구 의주로1가   배송중  인터넷뱅킹\n",
       "18226  2018-12-31  지점4  제품D   5  C-175    서울특별시 종로구 명륜1가  주문완료  인터넷뱅킹\n",
       "18227  2018-12-31  지점1  제품B   4   C-17  서울특별시 영등포구 양평동3가  주문완료  인터넷뱅킹\n",
       "18228  2018-12-31  지점2  제품D   4  C-156    서울특별시 중구 을지로2가   배송중  인터넷뱅킹\n",
       "\n",
       "[18229 rows x 8 columns]"
      ]
     },
     "execution_count": 38,
     "metadata": {},
     "output_type": "execute_result"
    }
   ],
   "source": [
    "merged_df = pd.DataFrame()\n",
    "for sn in sheetnames:\n",
    "    df = pd.read_excel(\"월별매출데이터.xlsx\", sheet_name=sn, skiprows = range(6), engine=\"openpyxl\")\n",
    "    df = df.iloc[:,1:] # 첫 번째 칼럼이 불필요하므로 제거\n",
    "    merged_df = pd.concat([merged_df, df], axis = 0, ignore_index=True)\n",
    "merged_df"
   ]
  },
  {
   "cell_type": "markdown",
   "metadata": {},
   "source": [
    "## List comprehension을 이용한 엑셀 시트 통합"
   ]
  },
  {
   "cell_type": "code",
   "execution_count": 40,
   "metadata": {
    "ExecuteTime": {
     "end_time": "2021-04-07T01:25:07.705060Z",
     "start_time": "2021-04-07T01:25:04.803806Z"
    }
   },
   "outputs": [
    {
     "data": {
      "text/html": [
       "<div>\n",
       "<style scoped>\n",
       "    .dataframe tbody tr th:only-of-type {\n",
       "        vertical-align: middle;\n",
       "    }\n",
       "\n",
       "    .dataframe tbody tr th {\n",
       "        vertical-align: top;\n",
       "    }\n",
       "\n",
       "    .dataframe thead th {\n",
       "        text-align: right;\n",
       "    }\n",
       "</style>\n",
       "<table border=\"1\" class=\"dataframe\">\n",
       "  <thead>\n",
       "    <tr style=\"text-align: right;\">\n",
       "      <th></th>\n",
       "      <th>일자</th>\n",
       "      <th>지점</th>\n",
       "      <th>품명</th>\n",
       "      <th>수량</th>\n",
       "      <th>주문인 ID</th>\n",
       "      <th>수령 주소</th>\n",
       "      <th>주문 상태</th>\n",
       "      <th>결제 수단</th>\n",
       "    </tr>\n",
       "  </thead>\n",
       "  <tbody>\n",
       "    <tr>\n",
       "      <th>0</th>\n",
       "      <td>2018.1.1</td>\n",
       "      <td>지점1</td>\n",
       "      <td>제품B</td>\n",
       "      <td>3</td>\n",
       "      <td>C-168</td>\n",
       "      <td>서울특별시 동작구 흑석동</td>\n",
       "      <td>주문완료</td>\n",
       "      <td>인터넷뱅킹</td>\n",
       "    </tr>\n",
       "    <tr>\n",
       "      <th>1</th>\n",
       "      <td>2018.1.1</td>\n",
       "      <td>지점2</td>\n",
       "      <td>제품F</td>\n",
       "      <td>8</td>\n",
       "      <td>C-87</td>\n",
       "      <td>서울특별시 서대문구 신촌동</td>\n",
       "      <td>배송완료</td>\n",
       "      <td>신용카드</td>\n",
       "    </tr>\n",
       "    <tr>\n",
       "      <th>2</th>\n",
       "      <td>2018.1.1</td>\n",
       "      <td>지점4</td>\n",
       "      <td>제품B</td>\n",
       "      <td>2</td>\n",
       "      <td>C-158</td>\n",
       "      <td>서울특별시 종로구 종로5가</td>\n",
       "      <td>배송완료</td>\n",
       "      <td>휴대폰결제</td>\n",
       "    </tr>\n",
       "    <tr>\n",
       "      <th>3</th>\n",
       "      <td>2018.1.1</td>\n",
       "      <td>지점3</td>\n",
       "      <td>제품D</td>\n",
       "      <td>7</td>\n",
       "      <td>C-307</td>\n",
       "      <td>서울특별시 서대문구 냉천동</td>\n",
       "      <td>주문완료</td>\n",
       "      <td>휴대폰결제</td>\n",
       "    </tr>\n",
       "    <tr>\n",
       "      <th>4</th>\n",
       "      <td>2018.1.1</td>\n",
       "      <td>지점2</td>\n",
       "      <td>제품E</td>\n",
       "      <td>9</td>\n",
       "      <td>C-342</td>\n",
       "      <td>서울특별시 종로구 묘동</td>\n",
       "      <td>배송완료</td>\n",
       "      <td>인터넷뱅킹</td>\n",
       "    </tr>\n",
       "    <tr>\n",
       "      <th>...</th>\n",
       "      <td>...</td>\n",
       "      <td>...</td>\n",
       "      <td>...</td>\n",
       "      <td>...</td>\n",
       "      <td>...</td>\n",
       "      <td>...</td>\n",
       "      <td>...</td>\n",
       "      <td>...</td>\n",
       "    </tr>\n",
       "    <tr>\n",
       "      <th>1504</th>\n",
       "      <td>2018-12-31</td>\n",
       "      <td>지점1</td>\n",
       "      <td>제품F</td>\n",
       "      <td>6</td>\n",
       "      <td>C-59</td>\n",
       "      <td>서울특별시 성북구 보문동3가</td>\n",
       "      <td>배송중</td>\n",
       "      <td>신용카드</td>\n",
       "    </tr>\n",
       "    <tr>\n",
       "      <th>1505</th>\n",
       "      <td>2018-12-31</td>\n",
       "      <td>지점2</td>\n",
       "      <td>제품D</td>\n",
       "      <td>9</td>\n",
       "      <td>C-287</td>\n",
       "      <td>서울특별시 중구 의주로1가</td>\n",
       "      <td>배송중</td>\n",
       "      <td>인터넷뱅킹</td>\n",
       "    </tr>\n",
       "    <tr>\n",
       "      <th>1506</th>\n",
       "      <td>2018-12-31</td>\n",
       "      <td>지점4</td>\n",
       "      <td>제품D</td>\n",
       "      <td>5</td>\n",
       "      <td>C-175</td>\n",
       "      <td>서울특별시 종로구 명륜1가</td>\n",
       "      <td>주문완료</td>\n",
       "      <td>인터넷뱅킹</td>\n",
       "    </tr>\n",
       "    <tr>\n",
       "      <th>1507</th>\n",
       "      <td>2018-12-31</td>\n",
       "      <td>지점1</td>\n",
       "      <td>제품B</td>\n",
       "      <td>4</td>\n",
       "      <td>C-17</td>\n",
       "      <td>서울특별시 영등포구 양평동3가</td>\n",
       "      <td>주문완료</td>\n",
       "      <td>인터넷뱅킹</td>\n",
       "    </tr>\n",
       "    <tr>\n",
       "      <th>1508</th>\n",
       "      <td>2018-12-31</td>\n",
       "      <td>지점2</td>\n",
       "      <td>제품D</td>\n",
       "      <td>4</td>\n",
       "      <td>C-156</td>\n",
       "      <td>서울특별시 중구 을지로2가</td>\n",
       "      <td>배송중</td>\n",
       "      <td>인터넷뱅킹</td>\n",
       "    </tr>\n",
       "  </tbody>\n",
       "</table>\n",
       "<p>18229 rows × 8 columns</p>\n",
       "</div>"
      ],
      "text/plain": [
       "              일자   지점   품명  수량 주문인 ID             수령 주소 주문 상태  결제 수단\n",
       "0       2018.1.1  지점1  제품B   3  C-168     서울특별시 동작구 흑석동  주문완료  인터넷뱅킹\n",
       "1       2018.1.1  지점2  제품F   8   C-87    서울특별시 서대문구 신촌동  배송완료   신용카드\n",
       "2       2018.1.1  지점4  제품B   2  C-158    서울특별시 종로구 종로5가  배송완료  휴대폰결제\n",
       "3       2018.1.1  지점3  제품D   7  C-307    서울특별시 서대문구 냉천동  주문완료  휴대폰결제\n",
       "4       2018.1.1  지점2  제품E   9  C-342      서울특별시 종로구 묘동  배송완료  인터넷뱅킹\n",
       "...          ...  ...  ...  ..    ...               ...   ...    ...\n",
       "1504  2018-12-31  지점1  제품F   6   C-59   서울특별시 성북구 보문동3가   배송중   신용카드\n",
       "1505  2018-12-31  지점2  제품D   9  C-287    서울특별시 중구 의주로1가   배송중  인터넷뱅킹\n",
       "1506  2018-12-31  지점4  제품D   5  C-175    서울특별시 종로구 명륜1가  주문완료  인터넷뱅킹\n",
       "1507  2018-12-31  지점1  제품B   4   C-17  서울특별시 영등포구 양평동3가  주문완료  인터넷뱅킹\n",
       "1508  2018-12-31  지점2  제품D   4  C-156    서울특별시 중구 을지로2가   배송중  인터넷뱅킹\n",
       "\n",
       "[18229 rows x 8 columns]"
      ]
     },
     "execution_count": 40,
     "metadata": {},
     "output_type": "execute_result"
    }
   ],
   "source": [
    "merged_df = pd.concat([pd.read_excel(\"월별매출데이터.xlsx\", sheet_name = sn, skiprows = range(6), engine=\"openpyxl\").iloc[:,1:]\n",
    "                      for sn in sheetnames])\n",
    "merged_df"
   ]
  }
 ],
 "metadata": {
  "kernelspec": {
   "display_name": "Python [conda env:mdai] *",
   "language": "python",
   "name": "conda-env-mdai-py"
  },
  "language_info": {
   "codemirror_mode": {
    "name": "ipython",
    "version": 3
   },
   "file_extension": ".py",
   "mimetype": "text/x-python",
   "name": "python",
   "nbconvert_exporter": "python",
   "pygments_lexer": "ipython3",
   "version": "3.8.5"
  }
 },
 "nbformat": 4,
 "nbformat_minor": 4
}
