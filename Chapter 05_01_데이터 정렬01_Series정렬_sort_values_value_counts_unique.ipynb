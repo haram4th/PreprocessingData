{
 "cells": [
  {
   "cell_type": "markdown",
   "metadata": {},
   "source": [
    "# pandas Series 정렬 sort_values(), value_counts, unique"
   ]
  },
  {
   "cell_type": "markdown",
   "metadata": {},
   "source": [
    "# sort_values() 사용"
   ]
  },
  {
   "cell_type": "markdown",
   "metadata": {},
   "source": [
    "<li>ascending: 오름차순으로 정렬</li>\n",
    "<li>key: 정렬 기준 함수(주로 lambda 함수 사용)</li>\n",
    "<li>na_position: 결측이 있는 경우 어디에 배치할 것인지 결정 {first, last}</li>"
   ]
  },
  {
   "cell_type": "code",
   "execution_count": 1,
   "metadata": {
    "ExecuteTime": {
     "end_time": "2021-04-09T03:08:48.183282Z",
     "start_time": "2021-04-09T03:08:36.408407Z"
    }
   },
   "outputs": [],
   "source": [
    "import pandas as pd\n",
    "import numpy as np"
   ]
  },
  {
   "cell_type": "code",
   "execution_count": 2,
   "metadata": {
    "ExecuteTime": {
     "end_time": "2021-04-09T03:10:04.685923Z",
     "start_time": "2021-04-09T03:10:04.661990Z"
    }
   },
   "outputs": [
    {
     "data": {
      "text/plain": [
       "0    NaN\n",
       "1    NaN\n",
       "2    NaN\n",
       "3    2.0\n",
       "4    7.0\n",
       "5    6.0\n",
       "6    9.0\n",
       "7    7.0\n",
       "8    4.0\n",
       "9    7.0\n",
       "dtype: float64"
      ]
     },
     "execution_count": 2,
     "metadata": {},
     "output_type": "execute_result"
    }
   ],
   "source": [
    "S = pd.Series(np.random.randint(1,10,100)) #1과 10 사이의 숫자를 100개 생성\n",
    "S.iloc[0:3] = np.nan # 0부터 3까지 결측치로 변환\n",
    "\n",
    "S.head(10)"
   ]
  },
  {
   "cell_type": "code",
   "execution_count": 3,
   "metadata": {
    "ExecuteTime": {
     "end_time": "2021-04-09T03:11:28.285484Z",
     "start_time": "2021-04-09T03:11:28.276508Z"
    }
   },
   "outputs": [
    {
     "data": {
      "text/plain": [
       "14    1.0\n",
       "32    1.0\n",
       "35    1.0\n",
       "20    1.0\n",
       "48    1.0\n",
       "     ... \n",
       "6     9.0\n",
       "45    9.0\n",
       "0     NaN\n",
       "1     NaN\n",
       "2     NaN\n",
       "Length: 100, dtype: float64"
      ]
     },
     "execution_count": 3,
     "metadata": {},
     "output_type": "execute_result"
    }
   ],
   "source": [
    "# sort_values()를 사용한 Series 내림차순 정렬\n",
    "S.sort_values() # default: ascending = True, key = None, na_position = last"
   ]
  },
  {
   "cell_type": "code",
   "execution_count": 4,
   "metadata": {
    "ExecuteTime": {
     "end_time": "2021-04-09T03:14:37.260331Z",
     "start_time": "2021-04-09T03:14:37.249358Z"
    }
   },
   "outputs": [
    {
     "data": {
      "text/plain": [
       "0     NaN\n",
       "1     NaN\n",
       "2     NaN\n",
       "36    9.0\n",
       "23    9.0\n",
       "     ... \n",
       "35    1.0\n",
       "86    1.0\n",
       "48    1.0\n",
       "80    1.0\n",
       "32    1.0\n",
       "Length: 100, dtype: float64"
      ]
     },
     "execution_count": 4,
     "metadata": {},
     "output_type": "execute_result"
    }
   ],
   "source": [
    "# sort_values()를 사용한 Series 오름차순 정렬, nan 값도 제일 앞으로 정렬\n",
    "S.sort_values(ascending = False, key = None, na_position = 'first')"
   ]
  },
  {
   "cell_type": "code",
   "execution_count": null,
   "metadata": {},
   "outputs": [],
   "source": []
  },
  {
   "cell_type": "markdown",
   "metadata": {
    "ExecuteTime": {
     "end_time": "2021-04-09T03:15:27.863422Z",
     "start_time": "2021-04-09T03:15:27.854445Z"
    }
   },
   "source": [
    "# Series 요약 함수 value_counts, unique"
   ]
  },
  {
   "cell_type": "markdown",
   "metadata": {},
   "source": [
    "## value_counts : Series의 구성 요소를 빈도 순서대로 출력 (결측값 포함X)"
   ]
  },
  {
   "cell_type": "markdown",
   "metadata": {
    "ExecuteTime": {
     "end_time": "2021-04-09T03:20:37.814031Z",
     "start_time": "2021-04-09T03:20:37.805052Z"
    }
   },
   "source": [
    "<li>ascending: 오름차순으로 정렬</li>\n",
    "<li>normalize: 빈도 대신 비율을 출력</li>"
   ]
  },
  {
   "cell_type": "markdown",
   "metadata": {},
   "source": [
    "## unique : Series에 있는 고유 값을 출력 (결측값 포함)"
   ]
  },
  {
   "cell_type": "markdown",
   "metadata": {},
   "source": [
    "<li>출력 값의 데이터 타입: ndarray</li>\n",
    "<li>범주형 변수와 연속형 변수를 판단하는데 사용 가능(unique 값의 길이 측정 후 판단)</li>"
   ]
  },
  {
   "cell_type": "code",
   "execution_count": 9,
   "metadata": {
    "ExecuteTime": {
     "end_time": "2021-04-09T03:24:42.362003Z",
     "start_time": "2021-04-09T03:24:42.351032Z"
    }
   },
   "outputs": [
    {
     "data": {
      "text/plain": [
       "2.0    15\n",
       "9.0    14\n",
       "1.0    13\n",
       "6.0    13\n",
       "3.0    12\n",
       "7.0    11\n",
       "4.0     8\n",
       "8.0     7\n",
       "5.0     4\n",
       "dtype: int64"
      ]
     },
     "execution_count": 9,
     "metadata": {},
     "output_type": "execute_result"
    }
   ],
   "source": [
    "# value_counts() 범주형 변수에 사용, 기본 내림차순\n",
    "S.value_counts()"
   ]
  },
  {
   "cell_type": "code",
   "execution_count": 10,
   "metadata": {
    "ExecuteTime": {
     "end_time": "2021-04-09T03:25:34.091704Z",
     "start_time": "2021-04-09T03:25:33.702228Z"
    }
   },
   "outputs": [
    {
     "data": {
      "text/plain": [
       "2.0    0.154639\n",
       "9.0    0.144330\n",
       "1.0    0.134021\n",
       "6.0    0.134021\n",
       "3.0    0.123711\n",
       "7.0    0.113402\n",
       "4.0    0.082474\n",
       "8.0    0.072165\n",
       "5.0    0.041237\n",
       "dtype: float64"
      ]
     },
     "execution_count": 10,
     "metadata": {},
     "output_type": "execute_result"
    }
   ],
   "source": [
    "# value_counts(normalize=True) 빈도가 아닌 비율을 보여줌\n",
    "S.value_counts(normalize=True)"
   ]
  },
  {
   "cell_type": "code",
   "execution_count": 11,
   "metadata": {
    "ExecuteTime": {
     "end_time": "2021-04-09T03:27:23.007535Z",
     "start_time": "2021-04-09T03:27:22.989567Z"
    }
   },
   "outputs": [
    {
     "data": {
      "text/plain": [
       "5.0    0.041237\n",
       "8.0    0.072165\n",
       "4.0    0.082474\n",
       "7.0    0.113402\n",
       "3.0    0.123711\n",
       "1.0    0.134021\n",
       "6.0    0.134021\n",
       "9.0    0.144330\n",
       "2.0    0.154639\n",
       "dtype: float64"
      ]
     },
     "execution_count": 11,
     "metadata": {},
     "output_type": "execute_result"
    }
   ],
   "source": [
    "# value_counts(normalize=True, ascending=True) 비율을 오름차순으로 정렬\n",
    "S.value_counts(normalize=True, ascending=True)"
   ]
  },
  {
   "cell_type": "code",
   "execution_count": 12,
   "metadata": {
    "ExecuteTime": {
     "end_time": "2021-04-09T03:29:41.524207Z",
     "start_time": "2021-04-09T03:29:41.413545Z"
    }
   },
   "outputs": [
    {
     "data": {
      "text/plain": [
       "array([nan,  2.,  7.,  6.,  9.,  4.,  5.,  1.,  8.,  3.])"
      ]
     },
     "execution_count": 12,
     "metadata": {},
     "output_type": "execute_result"
    }
   ],
   "source": [
    "S.unique()"
   ]
  },
  {
   "cell_type": "code",
   "execution_count": 14,
   "metadata": {
    "ExecuteTime": {
     "end_time": "2021-04-09T03:31:42.212324Z",
     "start_time": "2021-04-09T03:31:42.207338Z"
    }
   },
   "outputs": [
    {
     "data": {
      "text/plain": [
       "10"
      ]
     },
     "execution_count": 14,
     "metadata": {},
     "output_type": "execute_result"
    }
   ],
   "source": [
    "# unique 값의 길이를 측정했을 때 고유값이 10개이므로 연속형이 아닌 범주형 데이터임을 알 수 있음\n",
    "len(S.unique())"
   ]
  },
  {
   "cell_type": "code",
   "execution_count": null,
   "metadata": {},
   "outputs": [],
   "source": []
  },
  {
   "cell_type": "code",
   "execution_count": null,
   "metadata": {},
   "outputs": [],
   "source": []
  },
  {
   "cell_type": "code",
   "execution_count": null,
   "metadata": {},
   "outputs": [],
   "source": []
  }
 ],
 "metadata": {
  "kernelspec": {
   "display_name": "Python [conda env:mdai] *",
   "language": "python",
   "name": "conda-env-mdai-py"
  },
  "language_info": {
   "codemirror_mode": {
    "name": "ipython",
    "version": 3
   },
   "file_extension": ".py",
   "mimetype": "text/x-python",
   "name": "python",
   "nbconvert_exporter": "python",
   "pygments_lexer": "ipython3",
   "version": "3.8.5"
  }
 },
 "nbformat": 4,
 "nbformat_minor": 4
}
